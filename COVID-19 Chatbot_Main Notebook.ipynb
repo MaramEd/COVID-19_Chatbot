{
 "cells": [
  {
   "cell_type": "markdown",
   "metadata": {},
   "source": [
    "# <div style=\"text-align: center\"> Project COVID-19 </div>"
   ]
  },
  {
   "cell_type": "markdown",
   "metadata": {},
   "source": [
    "<img src='Images/COVID-19.jpg'>\n",
    "                                                \n",
    "                                                Source: IDPH Illionis"
   ]
  },
  {
   "cell_type": "markdown",
   "metadata": {},
   "source": [
    "## Contents:\n",
    "- [File Description](#File-Description)\n",
    "- [Introduction](#Introduction)\n",
    "- [Pipeline Framework](#Pipeline-Framework)\n",
    "   - [Setup Phase](#Setup-Phase)\n",
    "   - [Acquisition Phase](#Acquisition-Phase)\n",
    "   - [Processing Phase](#Processing-Phase)\n",
    "- [Problem Statement](#Problem-Statement)\n",
    "- [Solution to the Problem: Project COVID-19](#Solution-to-the-Problem:-Project-COVID-19)\n",
    "- [Dataset Description](#Dataset-Description)\n",
    "- [Building the Chatbot](#Building-the-Chatbot)\n",
    "- [Model Summary](#Model-Summary)\n",
    "- [Model Performance](#Model-Performance)\n",
    "- [Model Evaluation](#Model-evaluation)\n",
    "- [Chatbot Performance](#Chatbot-Performance)\n",
    "- [Chatbot Benchmarking](#Chatbot-Benchmarking) \n",
    "- [Challenges](#Challenges) \n",
    "- [Next Steps: Future Work](#Next-Steps-Future-Work)\n",
    "- [References](#References)"
   ]
  },
  {
   "cell_type": "markdown",
   "metadata": {},
   "source": [
    "## File Description\n",
    "\n",
    "- **COVID-19 Chatbot.ipynb**: contains data parsing and chatbot building process. **This is the main file**.\n",
    "- **Twitter and FAQs Scraping.ipynb**: contains the data scraping process of the MOH and MOI's twitter accounts and the MOH's FAQs webpage.\n",
    "- **TrackCorona_API Scraping.ipynb**: contains the data scraping process of the TrackCorona website.\n",
    "- **SaudiMOI_MOH.csv**: contains scraped tweets.\n",
    "- **moh_qna.csv**: contains scraped MOH's FAQs.\n",
    "- **scraped_new.txt**: contains scraped TrackCorona figures.\n",
    "- **Images Folder**: contains the images used thoughout the capstone."
   ]
  },
  {
   "cell_type": "markdown",
   "metadata": {},
   "source": [
    "# Introduction\n",
    "<div style=\"text-align: justify\"> COVID-19 is “a newly discovered coronavirus that infects humans and whose [rapid] spread has [led] to a global pandemic with zero available therapeutic strategies” (Mamoor, 2020, p. 5).</div>"
   ]
  },
  {
   "cell_type": "markdown",
   "metadata": {},
   "source": [
    "# Pipeline Framework\n",
    "<div style=\"text-align: justify\"> In this project, the web scraping pipeline framework is employed to organize the working process (see Image 1). The framework is carried out in three phases: setup, acquisition, and processing. In the setup phase, a problem is defined, which is there is an urgent need for a platform to obtain accurate information and updates about COVID-19. The twitter account of Ministry of Health (MOH)and Ministry of Interior (MOI), as well as, the website of the MOH and TrackCorona will be used for this task. In the acquisition phase, data will be scraped, then parsed and extracted using the web scraping tools Beautiful Soup and Selenium. The purpose is to change the data into a usable format. In the processing phase, data will be processed in two main stages: data understating and data preparation. </div>"
   ]
  },
  {
   "cell_type": "markdown",
   "metadata": {},
   "source": [
    "<img src='Images/Pipeline_Framework.png'>\n",
    "                               \n",
    "                 Image 1: Scraping Pipeline Framework (source: edited image from Laetsch, 2020)"
   ]
  },
  {
   "cell_type": "markdown",
   "metadata": {},
   "source": [
    "# Setup Phase"
   ]
  },
  {
   "cell_type": "markdown",
   "metadata": {},
   "source": [
    "## Problem Statement\n",
    "There is an urgent need for a platform from where accurate information and updates about COVID-19 can be obtained."
   ]
  },
  {
   "cell_type": "markdown",
   "metadata": {},
   "source": [
    "## Solution to the Problem: Project COVID-19"
   ]
  },
  {
   "cell_type": "markdown",
   "metadata": {},
   "source": [
    "What is Project COVID-19?\n",
    "- It is an initiative that builds an interactive COVID-19 chatbot which leverages AI and deep learning technologies.\n",
    "- It uses information from official sources for chatbot training.\n",
    "\n",
    "**Meet Bot, your COVID-19 chatbot!**\n",
    "<img src='Images/Bot.png'>\n",
    "\n",
    "- Facilitates access to reliable information regarding the COVID-19 pandemic\n",
    "- Provides accurate and updated local and international COVID-19 figures\n",
    "- Reports the latest news on COVID-19\n",
    "- Fights misinformation \n",
    "\n",
    "Bot updates hourly to accommodate the daily, weekly, or hourly updates published by LiveCorona, WHO, MOH, or MOI."
   ]
  },
  {
   "cell_type": "markdown",
   "metadata": {},
   "source": [
    "# Acquisition Phase\n",
    "## Web Scraping\n",
    "### <p><strong><em> Quest for COVID-19 Data</strong>\n",
    "<div style=\"text-align: justify\"> In this phase, data will be extracted from the twitter account of Ministry of Health (MOH) and Ministry of Interior (MOI), as well as, the website of the MOH and TrackCorona. Then, the raw data were transformed into structured data for further analysis. These sources were chosen because they provide accurate COVID-19 information and updates from official sources. Note, TrackCorona is sponsored by Google Maps and Wikipidia and provides accurate COVID-19 information and updates from official sources.</div>\n",
    "    \n",
    "**For the data scraping process, refer to the following listed data scraping notebooks on the capstone repository: 'TrackCorona_API Scraping.ipynb' and  'Twitter and FAQs Scraping.ipynb'**"
   ]
  },
  {
   "cell_type": "markdown",
   "metadata": {},
   "source": [
    "# Processing Phase\n",
    "## <p><strong><em>Data Processing: the Good, the Bad and the Value </strong>\n",
    "## Data Understanding"
   ]
  },
  {
   "cell_type": "markdown",
   "metadata": {},
   "source": [
    "<div style=\"text-align: justify\"> In this phase, there are four main stages: data parsing, where the data will be cleaned further. Data understating, where the data will be examined for its quality, quantity, and usefulness, among other things; data preparation, which is concerned with cleaning and preparing data for analysis; and data analysis, when data will be analyzed and visualized.</div>"
   ]
  },
  {
   "cell_type": "markdown",
   "metadata": {},
   "source": [
    "## Dataset Description\n",
    "The datasets for this project are gathered from four different sources:\n",
    "\n",
    "- **MOH tweets**: contain latest English MOH tweets related to COVID-19 (Twitter account: @SaudiMOH).\n",
    "- **MOI tweets**: contain latest English MOI tweets related to COVID-19 (Twitter account: @MOISaudiArabia).\n",
    "- **MOH FAQs**: contain latest English FAQs related to COVID-19 from MOH website (https://www.moh.gov.sa/en/CCC/FAQs/Corona/Pages/default.aspx).\n",
    "- **TrackCorona**: contains latest local and internation COVID-19 figures by country from TrackCorona website (https://www.trackcorona.live)."
   ]
  },
  {
   "cell_type": "markdown",
   "metadata": {},
   "source": [
    "# Building the Chatbot\n"
   ]
  },
  {
   "cell_type": "markdown",
   "metadata": {},
   "source": [
    "## Step 1. Collecting the Data"
   ]
  },
  {
   "cell_type": "markdown",
   "metadata": {},
   "source": [
    "<div style=\"text-align: justify\"> The COVID-19 chatbot will be built in five steps (see Image 2). The first step is collecting data and cleaning the data for preprocessing (see Table 1). Step one was carried out in three different notebooks titled as 'TrackCorona_API Scraping', 'Twitter and FAQs Scraping', and 'Parsing_COVID19 Complete Data'. For more infrmation on the step one, please see the listed files in this repository. The second setp is preprocessing the data, the third step is creating the training data, the fourth step is modeling, and the fifth and last step is interacting with the chatbot though GUI. </div>\n",
    "\n",
    "\n",
    "<img src='Images/Building Bot.png'>\n",
    "                                                 \n",
    "                                            Image 2: Steps for Building Bot"
   ]
  },
  {
   "cell_type": "markdown",
   "metadata": {},
   "source": [
    "### Parsing TrackCorona Data"
   ]
  },
  {
   "cell_type": "code",
   "execution_count": 1,
   "metadata": {},
   "outputs": [],
   "source": [
    "# Installing necessary libraries\n",
    "from bs4 import BeautifulSoup \n",
    "import pandas as pd\n",
    "import numpy as np\n",
    "import re\n",
    "import nltk\n",
    "from sklearn.feature_extraction.text import CountVectorizer\n",
    "from collections import Counter\n",
    "import plotly.express as px"
   ]
  },
  {
   "cell_type": "code",
   "execution_count": 2,
   "metadata": {},
   "outputs": [],
   "source": [
    "# Reading the list from the text file\n",
    "with open('scraped_new.txt', 'r') as f:\n",
    "    content = f.read()"
   ]
  },
  {
   "cell_type": "code",
   "execution_count": 3,
   "metadata": {},
   "outputs": [],
   "source": [
    "soup = BeautifulSoup(content) "
   ]
  },
  {
   "cell_type": "code",
   "execution_count": 4,
   "metadata": {},
   "outputs": [],
   "source": [
    "# Collecting data\n",
    "results = soup.find_all((\"tr\", {\"class\": \"even\"}))"
   ]
  },
  {
   "cell_type": "code",
   "execution_count": 5,
   "metadata": {},
   "outputs": [],
   "source": [
    "# Checking the size of data\n",
    "len(results)\n",
    "\n",
    "# The website's data will be extracted and parsed (https://www.trackcorona.live/)\n",
    "data = []\n",
    "for result in results:\n",
    "    datum = {}\n",
    "    tags = result.find_all(\"td\")\n",
    "\n",
    "    if tags != []:\n",
    "        Location = tags[1]\n",
    "        Confirmed_Cases = tags[2]\n",
    "        Fatalities = tags[4]\n",
    "        Recovered_Cases = tags[6]\n",
    "        \n",
    "    else:\n",
    "        Location = \"None\"\n",
    "        Confirmed_Cases = \"None\"\n",
    "        Fatalities = \"None\"\n",
    "        Recovered_Cases = \"None\"\n",
    "    \n",
    "     \n",
    "    for foo in result.find_all(\"img\", {\"style\": \"Location\"}):\n",
    "        Location = (foo.find(\"td\", {\"style\": \"value\"}).get_text())\n",
    "    for foo in result.find_all(\"td\", {\"class\": \"Confirmed_Cases\"}):\n",
    "        Confirmed_Cases = (foo.find(\"td\", {\"class\": \"value\"}).get_text())\n",
    "    for foo in result.find_all(\"td\", {\"class\": \"Recovered_Cases\"}):\n",
    "        Recovered_Cases = (foo.find(\"td\", {\"class\": \"value\"}).get_text())\n",
    "    for foo in result.find_all(\"td\", {\"class\": \"fatalities\"}):\n",
    "        fatalities = (foo.find(\"td\", {\"class\": \"value\"}).get_text())\n",
    "    \n",
    "    \n",
    "    # Defining functions to clean the extracted data\n",
    "    def strip_string(var):\n",
    "        var =str(var)\n",
    "        var = var.rstrip()\n",
    "        var = var.replace('\\n', '')\n",
    "        var = var.replace(',', '')\n",
    "        return var\n",
    "     \n",
    "    def strip_location(var):\n",
    "        var =str(var)\n",
    "        var = var.strip()\n",
    "        var = var.replace('\\n', '')\n",
    "        var = var.replace('\\u2003', '')\n",
    "        return var\n",
    "\n",
    "    # Cleaning extracted data\n",
    "    datum['Location'] = strip_location(Location)\n",
    "    datum['Confirmed_Cases'] = strip_string(Confirmed_Cases)\n",
    "    datum['Recovered_Cases'] =  strip_string(Recovered_Cases)\n",
    "    datum['Fatalities'] =  strip_string(Fatalities) \n",
    "    data.append(datum)"
   ]
  },
  {
   "cell_type": "code",
   "execution_count": 6,
   "metadata": {},
   "outputs": [],
   "source": [
    "# # Checking the data\n",
    "# print(tags)"
   ]
  },
  {
   "cell_type": "code",
   "execution_count": 7,
   "metadata": {},
   "outputs": [],
   "source": [
    "# Creating a dataframe\n",
    "covid19 = pd.DataFrame(data, columns = ['Location','Confirmed_Cases','Recovered_Cases', 'Active_Cases','Fatalities'])"
   ]
  },
  {
   "cell_type": "code",
   "execution_count": 8,
   "metadata": {},
   "outputs": [],
   "source": [
    "# Defining a function to clean tags\n",
    "def cleanTags(text):\n",
    "    clean = re.compile('<.*?>')\n",
    "    data =[]\n",
    "    for i in text:\n",
    "        data.append(re.sub(clean,'',i))\n",
    "    return data"
   ]
  },
  {
   "cell_type": "code",
   "execution_count": 9,
   "metadata": {},
   "outputs": [],
   "source": [
    "# Cleaning tags\n",
    "covid19['Location'] = cleanTags(covid19['Location'])\n",
    "covid19['Confirmed_Cases'] = cleanTags(covid19['Confirmed_Cases'])\n",
    "covid19['Recovered_Cases'] = cleanTags(covid19['Recovered_Cases'])\n",
    "covid19['Fatalities'] = cleanTags( covid19['Fatalities'])"
   ]
  },
  {
   "cell_type": "code",
   "execution_count": 10,
   "metadata": {},
   "outputs": [],
   "source": [
    "covid19['Location'] = covid19['Location'].apply(str.strip)\n",
    "covid19['Confirmed_Cases'] = covid19['Confirmed_Cases'].apply(str.rstrip)\n",
    "covid19['Recovered_Cases'] = covid19['Recovered_Cases'].apply(str.strip)\n",
    "covid19['Fatalities'] = covid19['Fatalities'].apply(str.strip)"
   ]
  },
  {
   "cell_type": "markdown",
   "metadata": {},
   "source": [
    "### Preparing the Data"
   ]
  },
  {
   "cell_type": "code",
   "execution_count": 11,
   "metadata": {
    "scrolled": false
   },
   "outputs": [
    {
     "data": {
      "text/html": [
       "<div>\n",
       "<style scoped>\n",
       "    .dataframe tbody tr th:only-of-type {\n",
       "        vertical-align: middle;\n",
       "    }\n",
       "\n",
       "    .dataframe tbody tr th {\n",
       "        vertical-align: top;\n",
       "    }\n",
       "\n",
       "    .dataframe thead th {\n",
       "        text-align: right;\n",
       "    }\n",
       "</style>\n",
       "<table border=\"1\" class=\"dataframe\">\n",
       "  <thead>\n",
       "    <tr style=\"text-align: right;\">\n",
       "      <th></th>\n",
       "      <th>Location</th>\n",
       "      <th>Confirmed_Cases</th>\n",
       "      <th>Recovered_Cases</th>\n",
       "      <th>Active_Cases</th>\n",
       "      <th>Fatalities</th>\n",
       "    </tr>\n",
       "  </thead>\n",
       "  <tbody>\n",
       "    <tr>\n",
       "      <th>0</th>\n",
       "      <td>None</td>\n",
       "      <td>None</td>\n",
       "      <td>None</td>\n",
       "      <td>NaN</td>\n",
       "      <td>None</td>\n",
       "    </tr>\n",
       "    <tr>\n",
       "      <th>1</th>\n",
       "      <td>None</td>\n",
       "      <td>None</td>\n",
       "      <td>None</td>\n",
       "      <td>NaN</td>\n",
       "      <td>None</td>\n",
       "    </tr>\n",
       "    <tr>\n",
       "      <th>2</th>\n",
       "      <td>United States</td>\n",
       "      <td>598340</td>\n",
       "      <td>44364</td>\n",
       "      <td>NaN</td>\n",
       "      <td>24787</td>\n",
       "    </tr>\n",
       "    <tr>\n",
       "      <th>3</th>\n",
       "      <td>Spain</td>\n",
       "      <td>172655</td>\n",
       "      <td>67504</td>\n",
       "      <td>NaN</td>\n",
       "      <td>18150</td>\n",
       "    </tr>\n",
       "    <tr>\n",
       "      <th>4</th>\n",
       "      <td>Italy</td>\n",
       "      <td>162488</td>\n",
       "      <td>37130</td>\n",
       "      <td>NaN</td>\n",
       "      <td>21067</td>\n",
       "    </tr>\n",
       "  </tbody>\n",
       "</table>\n",
       "</div>"
      ],
      "text/plain": [
       "        Location Confirmed_Cases Recovered_Cases  Active_Cases Fatalities\n",
       "0           None            None            None           NaN       None\n",
       "1           None            None            None           NaN       None\n",
       "2  United States          598340           44364           NaN      24787\n",
       "3          Spain          172655           67504           NaN      18150\n",
       "4          Italy          162488           37130           NaN      21067"
      ]
     },
     "execution_count": 11,
     "metadata": {},
     "output_type": "execute_result"
    }
   ],
   "source": [
    "# Cleaning the dataset\n",
    "covid19.head()"
   ]
  },
  {
   "cell_type": "code",
   "execution_count": 12,
   "metadata": {},
   "outputs": [],
   "source": [
    "# Dropping the additional empty rows\n",
    "covid_19 = covid19[~covid19.index.isin([0, 1])]"
   ]
  },
  {
   "cell_type": "code",
   "execution_count": 13,
   "metadata": {},
   "outputs": [
    {
     "name": "stderr",
     "output_type": "stream",
     "text": [
      "/Users/Maram/opt/anaconda3/lib/python3.7/site-packages/ipykernel_launcher.py:1: SettingWithCopyWarning:\n",
      "\n",
      "\n",
      "A value is trying to be set on a copy of a slice from a DataFrame.\n",
      "Try using .loc[row_indexer,col_indexer] = value instead\n",
      "\n",
      "See the caveats in the documentation: http://pandas.pydata.org/pandas-docs/stable/user_guide/indexing.html#returning-a-view-versus-a-copy\n",
      "\n",
      "/Users/Maram/opt/anaconda3/lib/python3.7/site-packages/ipykernel_launcher.py:2: SettingWithCopyWarning:\n",
      "\n",
      "\n",
      "A value is trying to be set on a copy of a slice from a DataFrame.\n",
      "Try using .loc[row_indexer,col_indexer] = value instead\n",
      "\n",
      "See the caveats in the documentation: http://pandas.pydata.org/pandas-docs/stable/user_guide/indexing.html#returning-a-view-versus-a-copy\n",
      "\n",
      "/Users/Maram/opt/anaconda3/lib/python3.7/site-packages/ipykernel_launcher.py:3: SettingWithCopyWarning:\n",
      "\n",
      "\n",
      "A value is trying to be set on a copy of a slice from a DataFrame.\n",
      "Try using .loc[row_indexer,col_indexer] = value instead\n",
      "\n",
      "See the caveats in the documentation: http://pandas.pydata.org/pandas-docs/stable/user_guide/indexing.html#returning-a-view-versus-a-copy\n",
      "\n",
      "/Users/Maram/opt/anaconda3/lib/python3.7/site-packages/ipykernel_launcher.py:4: SettingWithCopyWarning:\n",
      "\n",
      "\n",
      "A value is trying to be set on a copy of a slice from a DataFrame.\n",
      "Try using .loc[row_indexer,col_indexer] = value instead\n",
      "\n",
      "See the caveats in the documentation: http://pandas.pydata.org/pandas-docs/stable/user_guide/indexing.html#returning-a-view-versus-a-copy\n",
      "\n"
     ]
    }
   ],
   "source": [
    "covid_19['Confirmed_Cases'] = covid_19['Confirmed_Cases'].astype(int)\n",
    "covid_19['Recovered_Cases'] = covid_19['Recovered_Cases'].astype(int)\n",
    "covid_19['Fatalities'] = covid_19['Fatalities'].astype(int)\n",
    "covid_19['Active_Cases'] = covid_19['Confirmed_Cases'] - covid_19['Fatalities'] - covid_19['Recovered_Cases']"
   ]
  },
  {
   "cell_type": "markdown",
   "metadata": {},
   "source": [
    "### Understanding the Data"
   ]
  },
  {
   "cell_type": "code",
   "execution_count": 14,
   "metadata": {},
   "outputs": [
    {
     "data": {
      "text/html": [
       "<div>\n",
       "<style scoped>\n",
       "    .dataframe tbody tr th:only-of-type {\n",
       "        vertical-align: middle;\n",
       "    }\n",
       "\n",
       "    .dataframe tbody tr th {\n",
       "        vertical-align: top;\n",
       "    }\n",
       "\n",
       "    .dataframe thead th {\n",
       "        text-align: right;\n",
       "    }\n",
       "</style>\n",
       "<table border=\"1\" class=\"dataframe\">\n",
       "  <thead>\n",
       "    <tr style=\"text-align: right;\">\n",
       "      <th></th>\n",
       "      <th>Location</th>\n",
       "      <th>Confirmed_Cases</th>\n",
       "      <th>Recovered_Cases</th>\n",
       "      <th>Active_Cases</th>\n",
       "      <th>Fatalities</th>\n",
       "    </tr>\n",
       "  </thead>\n",
       "  <tbody>\n",
       "    <tr>\n",
       "      <th>2</th>\n",
       "      <td>United States</td>\n",
       "      <td>598340</td>\n",
       "      <td>44364</td>\n",
       "      <td>529189</td>\n",
       "      <td>24787</td>\n",
       "    </tr>\n",
       "    <tr>\n",
       "      <th>3</th>\n",
       "      <td>Spain</td>\n",
       "      <td>172655</td>\n",
       "      <td>67504</td>\n",
       "      <td>87001</td>\n",
       "      <td>18150</td>\n",
       "    </tr>\n",
       "    <tr>\n",
       "      <th>4</th>\n",
       "      <td>Italy</td>\n",
       "      <td>162488</td>\n",
       "      <td>37130</td>\n",
       "      <td>104291</td>\n",
       "      <td>21067</td>\n",
       "    </tr>\n",
       "  </tbody>\n",
       "</table>\n",
       "</div>"
      ],
      "text/plain": [
       "        Location  Confirmed_Cases  Recovered_Cases  Active_Cases  Fatalities\n",
       "2  United States           598340            44364        529189       24787\n",
       "3          Spain           172655            67504         87001       18150\n",
       "4          Italy           162488            37130        104291       21067"
      ]
     },
     "execution_count": 14,
     "metadata": {},
     "output_type": "execute_result"
    }
   ],
   "source": [
    "# Checking the dataset\n",
    "covid_19.head(3)"
   ]
  },
  {
   "cell_type": "code",
   "execution_count": 15,
   "metadata": {},
   "outputs": [],
   "source": [
    "# Reseting index to sort it\n",
    "covid_19.reset_index(inplace = True, drop = True)"
   ]
  },
  {
   "cell_type": "code",
   "execution_count": 16,
   "metadata": {
    "scrolled": false
   },
   "outputs": [
    {
     "data": {
      "text/html": [
       "<div>\n",
       "<style scoped>\n",
       "    .dataframe tbody tr th:only-of-type {\n",
       "        vertical-align: middle;\n",
       "    }\n",
       "\n",
       "    .dataframe tbody tr th {\n",
       "        vertical-align: top;\n",
       "    }\n",
       "\n",
       "    .dataframe thead th {\n",
       "        text-align: right;\n",
       "    }\n",
       "</style>\n",
       "<table border=\"1\" class=\"dataframe\">\n",
       "  <thead>\n",
       "    <tr style=\"text-align: right;\">\n",
       "      <th></th>\n",
       "      <th>Location</th>\n",
       "      <th>Confirmed_Cases</th>\n",
       "      <th>Recovered_Cases</th>\n",
       "      <th>Active_Cases</th>\n",
       "      <th>Fatalities</th>\n",
       "    </tr>\n",
       "  </thead>\n",
       "  <tbody>\n",
       "    <tr>\n",
       "      <th>0</th>\n",
       "      <td>United States</td>\n",
       "      <td>598340</td>\n",
       "      <td>44364</td>\n",
       "      <td>529189</td>\n",
       "      <td>24787</td>\n",
       "    </tr>\n",
       "    <tr>\n",
       "      <th>1</th>\n",
       "      <td>Spain</td>\n",
       "      <td>172655</td>\n",
       "      <td>67504</td>\n",
       "      <td>87001</td>\n",
       "      <td>18150</td>\n",
       "    </tr>\n",
       "    <tr>\n",
       "      <th>2</th>\n",
       "      <td>Italy</td>\n",
       "      <td>162488</td>\n",
       "      <td>37130</td>\n",
       "      <td>104291</td>\n",
       "      <td>21067</td>\n",
       "    </tr>\n",
       "    <tr>\n",
       "      <th>3</th>\n",
       "      <td>France</td>\n",
       "      <td>144414</td>\n",
       "      <td>29111</td>\n",
       "      <td>99552</td>\n",
       "      <td>15751</td>\n",
       "    </tr>\n",
       "    <tr>\n",
       "      <th>4</th>\n",
       "      <td>Germany</td>\n",
       "      <td>131170</td>\n",
       "      <td>68200</td>\n",
       "      <td>59698</td>\n",
       "      <td>3272</td>\n",
       "    </tr>\n",
       "  </tbody>\n",
       "</table>\n",
       "</div>"
      ],
      "text/plain": [
       "        Location  Confirmed_Cases  Recovered_Cases  Active_Cases  Fatalities\n",
       "0  United States           598340            44364        529189       24787\n",
       "1          Spain           172655            67504         87001       18150\n",
       "2          Italy           162488            37130        104291       21067\n",
       "3         France           144414            29111         99552       15751\n",
       "4        Germany           131170            68200         59698        3272"
      ]
     },
     "execution_count": 16,
     "metadata": {},
     "output_type": "execute_result"
    }
   ],
   "source": [
    "# Checking the dataset\n",
    "covid_19.head(5)"
   ]
  },
  {
   "cell_type": "code",
   "execution_count": 17,
   "metadata": {},
   "outputs": [
    {
     "data": {
      "text/plain": [
       "67504"
      ]
     },
     "execution_count": 17,
     "metadata": {},
     "output_type": "execute_result"
    }
   ],
   "source": [
    "\n",
    "covid_19.iloc[1]['Recovered_Cases']"
   ]
  },
  {
   "cell_type": "code",
   "execution_count": 18,
   "metadata": {
    "scrolled": true
   },
   "outputs": [
    {
     "name": "stdout",
     "output_type": "stream",
     "text": [
      "<class 'pandas.core.frame.DataFrame'>\n",
      "RangeIndex: 185 entries, 0 to 184\n",
      "Data columns (total 5 columns):\n",
      "Location           185 non-null object\n",
      "Confirmed_Cases    185 non-null int64\n",
      "Recovered_Cases    185 non-null int64\n",
      "Active_Cases       185 non-null int64\n",
      "Fatalities         185 non-null int64\n",
      "dtypes: int64(4), object(1)\n",
      "memory usage: 7.4+ KB\n"
     ]
    }
   ],
   "source": [
    "# Understanding the dataset\n",
    "covid_19.info()"
   ]
  },
  {
   "cell_type": "code",
   "execution_count": 19,
   "metadata": {},
   "outputs": [
    {
     "data": {
      "text/plain": [
       "0    United States\n",
       "1            Spain\n",
       "2            Italy\n",
       "3           France\n",
       "4          Germany\n",
       "Name: Location, dtype: object"
      ]
     },
     "execution_count": 19,
     "metadata": {},
     "output_type": "execute_result"
    }
   ],
   "source": [
    "# Understanding the dataset\n",
    "covid_19['Location'].head()"
   ]
  },
  {
   "cell_type": "code",
   "execution_count": 20,
   "metadata": {},
   "outputs": [
    {
     "data": {
      "text/plain": [
       "'United States'"
      ]
     },
     "execution_count": 20,
     "metadata": {},
     "output_type": "execute_result"
    }
   ],
   "source": [
    "# Checking the data\n",
    "covid_19.loc[0]['Location']"
   ]
  },
  {
   "cell_type": "code",
   "execution_count": 21,
   "metadata": {
    "scrolled": true
   },
   "outputs": [
    {
     "data": {
      "text/html": [
       "<div>\n",
       "<style scoped>\n",
       "    .dataframe tbody tr th:only-of-type {\n",
       "        vertical-align: middle;\n",
       "    }\n",
       "\n",
       "    .dataframe tbody tr th {\n",
       "        vertical-align: top;\n",
       "    }\n",
       "\n",
       "    .dataframe thead th {\n",
       "        text-align: right;\n",
       "    }\n",
       "</style>\n",
       "<table border=\"1\" class=\"dataframe\">\n",
       "  <thead>\n",
       "    <tr style=\"text-align: right;\">\n",
       "      <th></th>\n",
       "      <th>Location</th>\n",
       "      <th>Confirmed_Cases</th>\n",
       "      <th>Recovered_Cases</th>\n",
       "      <th>Active_Cases</th>\n",
       "      <th>Fatalities</th>\n",
       "    </tr>\n",
       "  </thead>\n",
       "  <tbody>\n",
       "    <tr>\n",
       "      <th>33</th>\n",
       "      <td>Saudi Arabia</td>\n",
       "      <td>5369</td>\n",
       "      <td>889</td>\n",
       "      <td>4407</td>\n",
       "      <td>73</td>\n",
       "    </tr>\n",
       "  </tbody>\n",
       "</table>\n",
       "</div>"
      ],
      "text/plain": [
       "        Location  Confirmed_Cases  Recovered_Cases  Active_Cases  Fatalities\n",
       "33  Saudi Arabia             5369              889          4407          73"
      ]
     },
     "execution_count": 21,
     "metadata": {},
     "output_type": "execute_result"
    }
   ],
   "source": [
    "# Checking the data\n",
    "covid_19.loc[covid_19['Location'] == ('Saudi Arabia')]"
   ]
  },
  {
   "cell_type": "code",
   "execution_count": 22,
   "metadata": {},
   "outputs": [],
   "source": [
    "# Assigning each column a variable\n",
    "location = covid_19.loc[covid_19['Location'] == ('Saudi Arabia')]['Location']"
   ]
  },
  {
   "cell_type": "code",
   "execution_count": 23,
   "metadata": {
    "scrolled": false
   },
   "outputs": [
    {
     "name": "stdout",
     "output_type": "stream",
     "text": [
      "0      598340\n",
      "1      172655\n",
      "2      162488\n",
      "3      144414\n",
      "4      131170\n",
      "        ...  \n",
      "180         4\n",
      "181         4\n",
      "182         2\n",
      "183         1\n",
      "184         0\n",
      "Name: Confirmed_Cases, Length: 185, dtype: int64\n"
     ]
    }
   ],
   "source": [
    "# Checking the data\n",
    "print(covid_19['Confirmed_Cases'])"
   ]
  },
  {
   "cell_type": "code",
   "execution_count": 24,
   "metadata": {},
   "outputs": [
    {
     "data": {
      "text/plain": [
       "'Saudi Arabia'"
      ]
     },
     "execution_count": 24,
     "metadata": {},
     "output_type": "execute_result"
    }
   ],
   "source": [
    "str(location.values[0])"
   ]
  },
  {
   "cell_type": "code",
   "execution_count": 25,
   "metadata": {},
   "outputs": [],
   "source": [
    "# Assigning each column a variable\n",
    "confirmed = covid_19.loc[covid_19['Location'] == ('Saudi Arabia')]['Confirmed_Cases']"
   ]
  },
  {
   "cell_type": "code",
   "execution_count": 26,
   "metadata": {},
   "outputs": [
    {
     "data": {
      "text/plain": [
       "'5369'"
      ]
     },
     "execution_count": 26,
     "metadata": {},
     "output_type": "execute_result"
    }
   ],
   "source": [
    "str(confirmed.values[0])"
   ]
  },
  {
   "cell_type": "code",
   "execution_count": 27,
   "metadata": {},
   "outputs": [],
   "source": [
    "# Assigning each column a variable\n",
    "recovered = covid_19.loc[covid_19['Location'] == ('Saudi Arabia')]['Recovered_Cases']"
   ]
  },
  {
   "cell_type": "code",
   "execution_count": 28,
   "metadata": {},
   "outputs": [
    {
     "data": {
      "text/plain": [
       "'889'"
      ]
     },
     "execution_count": 28,
     "metadata": {},
     "output_type": "execute_result"
    }
   ],
   "source": [
    "str(recovered.values[0])"
   ]
  },
  {
   "cell_type": "code",
   "execution_count": 29,
   "metadata": {},
   "outputs": [],
   "source": [
    "# Assigning each column a variable\n",
    "fatalities = covid_19.loc[covid_19['Location'] == ('Saudi Arabia')]['Fatalities']"
   ]
  },
  {
   "cell_type": "code",
   "execution_count": 30,
   "metadata": {},
   "outputs": [
    {
     "data": {
      "text/plain": [
       "'73'"
      ]
     },
     "execution_count": 30,
     "metadata": {},
     "output_type": "execute_result"
    }
   ],
   "source": [
    "str(fatalities.values[0])"
   ]
  },
  {
   "cell_type": "code",
   "execution_count": 31,
   "metadata": {},
   "outputs": [],
   "source": [
    "# Assigning each column a variable\n",
    "countries = covid_19['Location']"
   ]
  },
  {
   "cell_type": "markdown",
   "metadata": {},
   "source": [
    "## Understanding FAQs' Data"
   ]
  },
  {
   "cell_type": "code",
   "execution_count": 32,
   "metadata": {},
   "outputs": [],
   "source": [
    "# Reading the FAQs csv file\n",
    "faq_df = pd.read_csv('moh_qna.csv')"
   ]
  },
  {
   "cell_type": "code",
   "execution_count": 33,
   "metadata": {},
   "outputs": [],
   "source": [
    "# Resetting index and dropping it to sort the index\n",
    "faq_df.drop(inplace = True, columns = ['Unnamed: 0'])"
   ]
  },
  {
   "cell_type": "code",
   "execution_count": 34,
   "metadata": {
    "scrolled": true
   },
   "outputs": [
    {
     "data": {
      "text/html": [
       "<div>\n",
       "<style scoped>\n",
       "    .dataframe tbody tr th:only-of-type {\n",
       "        vertical-align: middle;\n",
       "    }\n",
       "\n",
       "    .dataframe tbody tr th {\n",
       "        vertical-align: top;\n",
       "    }\n",
       "\n",
       "    .dataframe thead th {\n",
       "        text-align: right;\n",
       "    }\n",
       "</style>\n",
       "<table border=\"1\" class=\"dataframe\">\n",
       "  <thead>\n",
       "    <tr style=\"text-align: right;\">\n",
       "      <th></th>\n",
       "      <th>Questions</th>\n",
       "      <th>Answers</th>\n",
       "      <th>Tags</th>\n",
       "    </tr>\n",
       "  </thead>\n",
       "  <tbody>\n",
       "    <tr>\n",
       "      <th>0</th>\n",
       "      <td>What are Coronaviruses?</td>\n",
       "      <td>Coronaviruses (CoV) are a large family of viru...</td>\n",
       "      <td>definition</td>\n",
       "    </tr>\n",
       "    <tr>\n",
       "      <th>1</th>\n",
       "      <td>What are the species of coronaviruses that hav...</td>\n",
       "      <td>The SARS-CoV was transmitted from civet cats t...</td>\n",
       "      <td>species</td>\n",
       "    </tr>\n",
       "    <tr>\n",
       "      <th>2</th>\n",
       "      <td>What is (COVID-19)?</td>\n",
       "      <td>It is the new coronavirus and most cases appea...</td>\n",
       "      <td>definition</td>\n",
       "    </tr>\n",
       "    <tr>\n",
       "      <th>3</th>\n",
       "      <td>How the virus identified?</td>\n",
       "      <td>The virus was identified through genetic seque...</td>\n",
       "      <td>identify</td>\n",
       "    </tr>\n",
       "    <tr>\n",
       "      <th>4</th>\n",
       "      <td>What is the origin of the virus?</td>\n",
       "      <td>It is believed that the COVID-19 originated in...</td>\n",
       "      <td>origin</td>\n",
       "    </tr>\n",
       "    <tr>\n",
       "      <th>5</th>\n",
       "      <td>Can the virus spread from person to person?</td>\n",
       "      <td>Yes, the virus can spread from the infected pe...</td>\n",
       "      <td>person</td>\n",
       "    </tr>\n",
       "    <tr>\n",
       "      <th>6</th>\n",
       "      <td>I just came from China having high temperature...</td>\n",
       "      <td>Visit the nearest health facility, for more in...</td>\n",
       "      <td>temperature</td>\n",
       "    </tr>\n",
       "    <tr>\n",
       "      <th>7</th>\n",
       "      <td>Can the COVID-19 spread through shipments comi...</td>\n",
       "      <td>According to available information, the goods ...</td>\n",
       "      <td>shipments</td>\n",
       "    </tr>\n",
       "    <tr>\n",
       "      <th>8</th>\n",
       "      <td>What are the symptoms of COVID-19?</td>\n",
       "      <td>The common symptoms of COVID-19 include: fever...</td>\n",
       "      <td>indication</td>\n",
       "    </tr>\n",
       "    <tr>\n",
       "      <th>9</th>\n",
       "      <td>Sneezing etiquette to prevent infection:</td>\n",
       "      <td>Use tissue papers for sneezing or coughing and...</td>\n",
       "      <td>etiquette</td>\n",
       "    </tr>\n",
       "    <tr>\n",
       "      <th>10</th>\n",
       "      <td>Tips for travellers:</td>\n",
       "      <td>Avoid approaching people having signs of a col...</td>\n",
       "      <td>tips</td>\n",
       "    </tr>\n",
       "  </tbody>\n",
       "</table>\n",
       "</div>"
      ],
      "text/plain": [
       "                                            Questions  \\\n",
       "0                             What are Coronaviruses?   \n",
       "1   What are the species of coronaviruses that hav...   \n",
       "2                                 What is (COVID-19)?   \n",
       "3                           How the virus identified?   \n",
       "4                    What is the origin of the virus?   \n",
       "5        Can the virus spread from person to person?    \n",
       "6   I just came from China having high temperature...   \n",
       "7   Can the COVID-19 spread through shipments comi...   \n",
       "8                  What are the symptoms of COVID-19?   \n",
       "9            Sneezing etiquette to prevent infection:   \n",
       "10                               Tips for travellers:   \n",
       "\n",
       "                                              Answers         Tags  \n",
       "0   Coronaviruses (CoV) are a large family of viru...   definition  \n",
       "1   The SARS-CoV was transmitted from civet cats t...      species  \n",
       "2   It is the new coronavirus and most cases appea...   definition  \n",
       "3   The virus was identified through genetic seque...     identify  \n",
       "4   It is believed that the COVID-19 originated in...       origin  \n",
       "5   Yes, the virus can spread from the infected pe...       person  \n",
       "6   Visit the nearest health facility, for more in...  temperature  \n",
       "7   According to available information, the goods ...    shipments  \n",
       "8   The common symptoms of COVID-19 include: fever...   indication  \n",
       "9   Use tissue papers for sneezing or coughing and...    etiquette  \n",
       "10  Avoid approaching people having signs of a col...         tips  "
      ]
     },
     "execution_count": 34,
     "metadata": {},
     "output_type": "execute_result"
    }
   ],
   "source": [
    "# Checking the data\n",
    "faq_df"
   ]
  },
  {
   "cell_type": "code",
   "execution_count": 35,
   "metadata": {},
   "outputs": [],
   "source": [
    "# Cleaning the data\n",
    "def_df = faq_df.loc[faq_df['Tags'] =='definition']"
   ]
  },
  {
   "cell_type": "code",
   "execution_count": 36,
   "metadata": {},
   "outputs": [],
   "source": [
    "# Cleaning the data\n",
    "faq_df.drop([0,2],inplace=True)"
   ]
  },
  {
   "cell_type": "code",
   "execution_count": 37,
   "metadata": {},
   "outputs": [
    {
     "data": {
      "text/html": [
       "<div>\n",
       "<style scoped>\n",
       "    .dataframe tbody tr th:only-of-type {\n",
       "        vertical-align: middle;\n",
       "    }\n",
       "\n",
       "    .dataframe tbody tr th {\n",
       "        vertical-align: top;\n",
       "    }\n",
       "\n",
       "    .dataframe thead th {\n",
       "        text-align: right;\n",
       "    }\n",
       "</style>\n",
       "<table border=\"1\" class=\"dataframe\">\n",
       "  <thead>\n",
       "    <tr style=\"text-align: right;\">\n",
       "      <th></th>\n",
       "      <th>Questions</th>\n",
       "      <th>Answers</th>\n",
       "      <th>Tags</th>\n",
       "    </tr>\n",
       "  </thead>\n",
       "  <tbody>\n",
       "    <tr>\n",
       "      <th>0</th>\n",
       "      <td>What are the species of coronaviruses that hav...</td>\n",
       "      <td>The SARS-CoV was transmitted from civet cats t...</td>\n",
       "      <td>species</td>\n",
       "    </tr>\n",
       "    <tr>\n",
       "      <th>1</th>\n",
       "      <td>How the virus identified?</td>\n",
       "      <td>The virus was identified through genetic seque...</td>\n",
       "      <td>identify</td>\n",
       "    </tr>\n",
       "    <tr>\n",
       "      <th>2</th>\n",
       "      <td>What is the origin of the virus?</td>\n",
       "      <td>It is believed that the COVID-19 originated in...</td>\n",
       "      <td>origin</td>\n",
       "    </tr>\n",
       "    <tr>\n",
       "      <th>3</th>\n",
       "      <td>Can the virus spread from person to person?</td>\n",
       "      <td>Yes, the virus can spread from the infected pe...</td>\n",
       "      <td>person</td>\n",
       "    </tr>\n",
       "    <tr>\n",
       "      <th>4</th>\n",
       "      <td>I just came from China having high temperature...</td>\n",
       "      <td>Visit the nearest health facility, for more in...</td>\n",
       "      <td>temperature</td>\n",
       "    </tr>\n",
       "    <tr>\n",
       "      <th>5</th>\n",
       "      <td>Can the COVID-19 spread through shipments comi...</td>\n",
       "      <td>According to available information, the goods ...</td>\n",
       "      <td>shipments</td>\n",
       "    </tr>\n",
       "    <tr>\n",
       "      <th>6</th>\n",
       "      <td>What are the symptoms of COVID-19?</td>\n",
       "      <td>The common symptoms of COVID-19 include: fever...</td>\n",
       "      <td>indication</td>\n",
       "    </tr>\n",
       "    <tr>\n",
       "      <th>7</th>\n",
       "      <td>Sneezing etiquette to prevent infection:</td>\n",
       "      <td>Use tissue papers for sneezing or coughing and...</td>\n",
       "      <td>etiquette</td>\n",
       "    </tr>\n",
       "    <tr>\n",
       "      <th>8</th>\n",
       "      <td>Tips for travellers:</td>\n",
       "      <td>Avoid approaching people having signs of a col...</td>\n",
       "      <td>tips</td>\n",
       "    </tr>\n",
       "  </tbody>\n",
       "</table>\n",
       "</div>"
      ],
      "text/plain": [
       "                                           Questions  \\\n",
       "0  What are the species of coronaviruses that hav...   \n",
       "1                          How the virus identified?   \n",
       "2                   What is the origin of the virus?   \n",
       "3       Can the virus spread from person to person?    \n",
       "4  I just came from China having high temperature...   \n",
       "5  Can the COVID-19 spread through shipments comi...   \n",
       "6                 What are the symptoms of COVID-19?   \n",
       "7           Sneezing etiquette to prevent infection:   \n",
       "8                               Tips for travellers:   \n",
       "\n",
       "                                             Answers         Tags  \n",
       "0  The SARS-CoV was transmitted from civet cats t...      species  \n",
       "1  The virus was identified through genetic seque...     identify  \n",
       "2  It is believed that the COVID-19 originated in...       origin  \n",
       "3  Yes, the virus can spread from the infected pe...       person  \n",
       "4  Visit the nearest health facility, for more in...  temperature  \n",
       "5  According to available information, the goods ...    shipments  \n",
       "6  The common symptoms of COVID-19 include: fever...   indication  \n",
       "7  Use tissue papers for sneezing or coughing and...    etiquette  \n",
       "8  Avoid approaching people having signs of a col...         tips  "
      ]
     },
     "execution_count": 37,
     "metadata": {},
     "output_type": "execute_result"
    }
   ],
   "source": [
    "# Resetting index and dropping it to sort the index\n",
    "faq_df.reset_index(inplace=True,drop=True)\n",
    "faq_df"
   ]
  },
  {
   "cell_type": "markdown",
   "metadata": {},
   "source": [
    "# Parsing MOH and MOI Tweets"
   ]
  },
  {
   "cell_type": "code",
   "execution_count": 38,
   "metadata": {},
   "outputs": [],
   "source": [
    "# Reading MOH and MOI tweets and assigning them a variable\n",
    "tweets_df = pd.read_csv('SaudiMOI_MOH.csv')"
   ]
  },
  {
   "cell_type": "code",
   "execution_count": 39,
   "metadata": {},
   "outputs": [],
   "source": [
    "# Defining a stemming function\n",
    "stemmer = nltk.PorterStemmer()\n",
    "analyzer = CountVectorizer().build_analyzer()\n",
    "\n",
    "def stemmed(doc):\n",
    "    return [stemmer.stem(w) for w in analyzer(doc)]"
   ]
  },
  {
   "cell_type": "code",
   "execution_count": 40,
   "metadata": {
    "scrolled": true
   },
   "outputs": [],
   "source": [
    "# Keeping only English tweets\n",
    "tweets_en = tweets_df.loc[tweets_df['Language'] == ('en')]"
   ]
  },
  {
   "cell_type": "code",
   "execution_count": 41,
   "metadata": {},
   "outputs": [
    {
     "name": "stderr",
     "output_type": "stream",
     "text": [
      "/Users/Maram/opt/anaconda3/lib/python3.7/site-packages/pandas/core/frame.py:4117: SettingWithCopyWarning:\n",
      "\n",
      "\n",
      "A value is trying to be set on a copy of a slice from a DataFrame\n",
      "\n",
      "See the caveats in the documentation: http://pandas.pydata.org/pandas-docs/stable/user_guide/indexing.html#returning-a-view-versus-a-copy\n",
      "\n"
     ]
    },
    {
     "data": {
      "text/html": [
       "<div>\n",
       "<style scoped>\n",
       "    .dataframe tbody tr th:only-of-type {\n",
       "        vertical-align: middle;\n",
       "    }\n",
       "\n",
       "    .dataframe tbody tr th {\n",
       "        vertical-align: top;\n",
       "    }\n",
       "\n",
       "    .dataframe thead th {\n",
       "        text-align: right;\n",
       "    }\n",
       "</style>\n",
       "<table border=\"1\" class=\"dataframe\">\n",
       "  <thead>\n",
       "    <tr style=\"text-align: right;\">\n",
       "      <th></th>\n",
       "      <th>ID</th>\n",
       "      <th>Created_at</th>\n",
       "      <th>Source</th>\n",
       "      <th>Favorite_Count</th>\n",
       "      <th>Retweet_Count</th>\n",
       "      <th>Tweets</th>\n",
       "      <th>Language</th>\n",
       "    </tr>\n",
       "  </thead>\n",
       "  <tbody>\n",
       "    <tr>\n",
       "      <th>0</th>\n",
       "      <td>1248675865526964225</td>\n",
       "      <td>2020-04-10 18:15:00</td>\n",
       "      <td>Ministry of Health</td>\n",
       "      <td>152</td>\n",
       "      <td>111</td>\n",
       "      <td>Know the difference between medical quarantine...</td>\n",
       "      <td>en</td>\n",
       "    </tr>\n",
       "    <tr>\n",
       "      <th>1</th>\n",
       "      <td>1248663151450750976</td>\n",
       "      <td>2020-04-10 17:24:29</td>\n",
       "      <td>Ministry of Health</td>\n",
       "      <td>241</td>\n",
       "      <td>131</td>\n",
       "      <td>Responsible measures be taken before, during a...</td>\n",
       "      <td>en</td>\n",
       "    </tr>\n",
       "  </tbody>\n",
       "</table>\n",
       "</div>"
      ],
      "text/plain": [
       "                    ID           Created_at              Source  \\\n",
       "0  1248675865526964225  2020-04-10 18:15:00  Ministry of Health   \n",
       "1  1248663151450750976  2020-04-10 17:24:29  Ministry of Health   \n",
       "\n",
       "   Favorite_Count  Retweet_Count  \\\n",
       "0             152            111   \n",
       "1             241            131   \n",
       "\n",
       "                                              Tweets Language  \n",
       "0  Know the difference between medical quarantine...       en  \n",
       "1  Responsible measures be taken before, during a...       en  "
      ]
     },
     "execution_count": 41,
     "metadata": {},
     "output_type": "execute_result"
    }
   ],
   "source": [
    "# Resetting index and dropping it to sort the index\n",
    "tweets_en.reset_index(inplace = True, drop = True)\n",
    "tweets_en.drop(inplace = True, columns = ['Unnamed: 0'])\n",
    "tweets_en.head(2)"
   ]
  },
  {
   "cell_type": "code",
   "execution_count": 42,
   "metadata": {},
   "outputs": [],
   "source": [
    "# Adding tags\n",
    "tweets_tags = []\n",
    "for i,tweet in tweets_en.iterrows():\n",
    "    tweets_tags = tweets_tags+stemmed(tweet['Tweets'])"
   ]
  },
  {
   "cell_type": "code",
   "execution_count": 43,
   "metadata": {
    "scrolled": true
   },
   "outputs": [],
   "source": [
    "# # Checking tags\n",
    "# set(tweets_tags)"
   ]
  },
  {
   "cell_type": "code",
   "execution_count": 44,
   "metadata": {},
   "outputs": [],
   "source": [
    "# Creating tags\n",
    "keys_dict = {\n",
    " 'ablut': 'ablution',\n",
    " 'about': 'about',\n",
    " 'absolut': 'absolut',\n",
    " 'after': 'after',\n",
    " 'april': 'april',\n",
    " 'around': 'around',\n",
    " 'avoid': 'avoid',\n",
    " 'awar': 'aware',\n",
    " 'babi': 'babies',\n",
    " 'be': 'being',\n",
    " 'been': 'been',\n",
    " 'befor': 'before',\n",
    " 'behind': 'behind',\n",
    " 'between': 'between',\n",
    " 'breastfe': 'breastfeeding',\n",
    " 'breath': 'breath',\n",
    " 'call': 'call',\n",
    " 'care': 'caring',\n",
    " 'carri': 'carriage',\n",
    " 'charg': 'charge',\n",
    " 'common': 'commom',\n",
    " 'confer': 'conference',\n",
    " 'contact': 'contact',\n",
    " 'cough': 'cough',\n",
    " 'cover': 'cover',\n",
    " 'covid': 'covid',\n",
    " 'crowd': 'crowds',\n",
    " 'day': 'day',\n",
    " 'deliveri': 'delivering',\n",
    " 'differ': 'different',\n",
    " 'difficulti': 'difficulties',\n",
    " 'don': 'done',\n",
    " 'drive': 'drive',\n",
    " 'dure': 'during',\n",
    " 'elbow': 'elbow',\n",
    " 'errand': 'errand',\n",
    " 'even': 'even',\n",
    " 'everyon': 'everyone',\n",
    " 'everyth': 'everything',\n",
    " 'exhibit': 'exhibit',\n",
    " 'experi': 'experience',\n",
    " 'facemask': 'facemask',\n",
    " 'facil': 'facility',\n",
    " 'fact': 'fact',\n",
    " 'famili': 'families',\n",
    " 'fever': 'fever',\n",
    " 'few': 'few',\n",
    " 'flu': 'flu',\n",
    " 'forget': 'forget',\n",
    " 'free': 'free',\n",
    " 'gather': 'gather',\n",
    " 'get': 'get',\n",
    " 'goal': 'goal',\n",
    " 'guid': 'guide',\n",
    " 'hand': 'hand',\n",
    " 'handi':'handy',\n",
    " 'happi':'happy',\n",
    " 'head': 'head',\n",
    " 'healthcar': 'healthcare',\n",
    " 'healthi': 'healthier',\n",
    " 'here': 'here',\n",
    " 'higher': 'higher',\n",
    " 'highlight': 'highlight',\n",
    " 'home': 'home',\n",
    " 'hous': 'house',\n",
    " 'increas': 'increase',\n",
    " 'infect': 'infect',\n",
    " 'internet': 'internet',\n",
    " 'isol': 'isolation',\n",
    " 'job': 'job',\n",
    " 'kingdom': 'kingdom',\n",
    " 'know' : 'know',\n",
    " 'lab': 'lab',\n",
    " 'leav': 'leave',\n",
    " 'love': 'love',\n",
    " 'major': 'major',\n",
    " 'make': 'make',\n",
    " 'measur': 'measure',\n",
    " 'medic': 'medical',\n",
    " 'million': 'million',\n",
    " 'mingl': 'mingle',\n",
    " 'moh': 'moh',\n",
    " 'molecular': 'molecular',\n",
    " 'mouth': 'mouth',\n",
    " 'myth': 'myth',\n",
    " 'nearest': 'nearest',\n",
    " 'need': 'need',\n",
    " 'new': 'new',\n",
    " 'nose': 'nose',\n",
    " 'offici': 'official',\n",
    " 'one': 'one',\n",
    " 'packag': 'package',\n",
    " 'perform': 'perform',\n",
    " 'period': 'period',\n",
    " 'pleas': 'please',\n",
    " 'popul': 'populated',\n",
    " 'precaut': 'precaution',\n",
    " 'pregnant': 'pregnant',\n",
    " 'press': 'press',\n",
    " 'protect': 'protection',\n",
    " 'quarantin':  'quarantine',\n",
    " 'read': 'read',\n",
    " 'receiv': 'receive',\n",
    " 'reduc': 'reduce',\n",
    " 'regularli':  'regularity',\n",
    " 'requir': 'require',\n",
    " 'respons': 'response',\n",
    " 'risk':  'risk',\n",
    " 'safe': 'safe',\n",
    " 'safeti': 'safetiness',\n",
    " 'sake': 'sake',\n",
    " 'self': 'self',\n",
    " 'short':  'short',\n",
    " 'simpl':  'simple',\n",
    " 'sneez': 'sneeze',\n",
    " 'soap': 'soap',\n",
    " 'social': 'social',\n",
    " 'soon': 'soon',\n",
    " 'spokesperson': 'spokesperson',\n",
    " 'spread': 'spread',\n",
    " 'stay': 'stay',\n",
    " 'step': 'step',\n",
    " 'stop': 'stop',\n",
    " 'sure': 'sure',\n",
    " 'symptom': 'symptom',\n",
    " 'take': 'take',\n",
    " 'taken': 'taken',\n",
    " 'technolog': 'technolog',\n",
    " 'test': 'test',\n",
    " 'thoroughli': 'thorough',\n",
    " 'time': 'time',\n",
    " 'tip': 'tip',\n",
    " 'tissu': 'tissue',\n",
    " 'translat': 'translate',\n",
    " 'transmiss': 'transmission',\n",
    " 'travel': 'travel',\n",
    " 'treatment': 'treatment',\n",
    " 'true': 'true',\n",
    " 'unavail': 'unavailable',\n",
    " 'unless': 'unless',\n",
    " 'unnecessari':  'unnecessarily',\n",
    " 'use':  'use',\n",
    " 'viru': 'virus',\n",
    " 'vulner': 'vulnerable',\n",
    " 'wash': 'wash',\n",
    " 'water': 'water',\n",
    " 'wear': 'wear',\n",
    " 'worri': 'worried',\n",
    " 'wudhu': 'wudhu'}"
   ]
  },
  {
   "cell_type": "code",
   "execution_count": 45,
   "metadata": {},
   "outputs": [],
   "source": [
    "# Defining a tag finding function\n",
    "def find_tag(stems,tags, tag_used):\n",
    "\n",
    "    for stem in stems:\n",
    "        if (stem in tags.keys()) and (stem not in tag_used):\n",
    "                #add tag\n",
    "                tag_used = tag_used + stem\n",
    "                return stem\n",
    "            \n",
    "    #if unique tag is doesn't exist, find least frequent tag\n",
    "    cnt = Counter(tag_used.split())    \n",
    "    key_min = min(cnt.keys(), key=(lambda k: cnt[k]))\n",
    "    tag_used = tag_used + stem\n",
    "    \n",
    "    print(key_min)"
   ]
  },
  {
   "cell_type": "code",
   "execution_count": 46,
   "metadata": {
    "scrolled": true
   },
   "outputs": [
    {
     "name": "stderr",
     "output_type": "stream",
     "text": [
      "/Users/Maram/opt/anaconda3/lib/python3.7/site-packages/ipykernel_launcher.py:2: SettingWithCopyWarning:\n",
      "\n",
      "\n",
      "A value is trying to be set on a copy of a slice from a DataFrame.\n",
      "Try using .loc[row_indexer,col_indexer] = value instead\n",
      "\n",
      "See the caveats in the documentation: http://pandas.pydata.org/pandas-docs/stable/user_guide/indexing.html#returning-a-view-versus-a-copy\n",
      "\n",
      "/Users/Maram/opt/anaconda3/lib/python3.7/site-packages/pandas/core/indexing.py:494: SettingWithCopyWarning:\n",
      "\n",
      "\n",
      "A value is trying to be set on a copy of a slice from a DataFrame.\n",
      "Try using .loc[row_indexer,col_indexer] = value instead\n",
      "\n",
      "See the caveats in the documentation: http://pandas.pydata.org/pandas-docs/stable/user_guide/indexing.html#returning-a-view-versus-a-copy\n",
      "\n"
     ]
    }
   ],
   "source": [
    "# Adding tags\n",
    "tweets_en['tags'] =''\n",
    "tag_used = ''\n",
    "for i,tweet in tweets_en.iterrows():\n",
    "    stems = stemmed(tweet['Tweets']) \n",
    "    tag = find_tag(stems,keys_dict,tag_used)\n",
    "    tweets_en.loc[i,'tags'] = keys_dict[tag]"
   ]
  },
  {
   "cell_type": "code",
   "execution_count": 47,
   "metadata": {
    "scrolled": true
   },
   "outputs": [
    {
     "data": {
      "text/html": [
       "<div>\n",
       "<style scoped>\n",
       "    .dataframe tbody tr th:only-of-type {\n",
       "        vertical-align: middle;\n",
       "    }\n",
       "\n",
       "    .dataframe tbody tr th {\n",
       "        vertical-align: top;\n",
       "    }\n",
       "\n",
       "    .dataframe thead th {\n",
       "        text-align: right;\n",
       "    }\n",
       "</style>\n",
       "<table border=\"1\" class=\"dataframe\">\n",
       "  <thead>\n",
       "    <tr style=\"text-align: right;\">\n",
       "      <th></th>\n",
       "      <th>ID</th>\n",
       "      <th>Created_at</th>\n",
       "      <th>Source</th>\n",
       "      <th>Favorite_Count</th>\n",
       "      <th>Retweet_Count</th>\n",
       "      <th>Tweets</th>\n",
       "      <th>Language</th>\n",
       "      <th>tags</th>\n",
       "    </tr>\n",
       "  </thead>\n",
       "  <tbody>\n",
       "    <tr>\n",
       "      <th>0</th>\n",
       "      <td>1248675865526964225</td>\n",
       "      <td>2020-04-10 18:15:00</td>\n",
       "      <td>Ministry of Health</td>\n",
       "      <td>152</td>\n",
       "      <td>111</td>\n",
       "      <td>Know the difference between medical quarantine...</td>\n",
       "      <td>en</td>\n",
       "      <td>know</td>\n",
       "    </tr>\n",
       "    <tr>\n",
       "      <th>1</th>\n",
       "      <td>1248663151450750976</td>\n",
       "      <td>2020-04-10 17:24:29</td>\n",
       "      <td>Ministry of Health</td>\n",
       "      <td>241</td>\n",
       "      <td>131</td>\n",
       "      <td>Responsible measures be taken before, during a...</td>\n",
       "      <td>en</td>\n",
       "      <td>response</td>\n",
       "    </tr>\n",
       "  </tbody>\n",
       "</table>\n",
       "</div>"
      ],
      "text/plain": [
       "                    ID           Created_at              Source  \\\n",
       "0  1248675865526964225  2020-04-10 18:15:00  Ministry of Health   \n",
       "1  1248663151450750976  2020-04-10 17:24:29  Ministry of Health   \n",
       "\n",
       "   Favorite_Count  Retweet_Count  \\\n",
       "0             152            111   \n",
       "1             241            131   \n",
       "\n",
       "                                              Tweets Language      tags  \n",
       "0  Know the difference between medical quarantine...       en      know  \n",
       "1  Responsible measures be taken before, during a...       en  response  "
      ]
     },
     "execution_count": 47,
     "metadata": {},
     "output_type": "execute_result"
    }
   ],
   "source": [
    "#Checking the data\n",
    "tweets_en.head(2)"
   ]
  },
  {
   "cell_type": "code",
   "execution_count": 48,
   "metadata": {},
   "outputs": [],
   "source": [
    "# Sorting tags\n",
    "sorting_tags = {}\n",
    "for i,tweet in tweets_en.iterrows():\n",
    "    key = tweet['tags']\n",
    "    if key not in sorting_tags.keys():\n",
    "        sorting_tags[key] = []\n",
    "        sorting_tags[key].append({\"created_at\":tweet[\"Created_at\"], \"tweet\":tweet['Tweets'],\"source\":tweet['Source']})\n",
    "    else:\n",
    "        sorting_tags[key].append({\"created_at\":tweet[\"Created_at\"], \"tweet\":tweet['Tweets'],'source':tweet['Source']})"
   ]
  },
  {
   "cell_type": "code",
   "execution_count": 49,
   "metadata": {},
   "outputs": [],
   "source": [
    "# Adding all of the data in a Json file to be used when modeling\n",
    "import json\n",
    "intents = {}\n",
    "intents['intents'] = []\n",
    "intents['intents'].append(\n",
    "        {\"tag\": \"greeting\",\n",
    "         \"patterns\": [\"Hi\", \"How are you\", \"Is anyone there?\", \"Hello\", \"Good day\", \"What's up\", \"Salaam\"],\n",
    "         \"responses\": [\"Hello!\", \"Good to see you again!\", \"Hi there, how can I help?\"],\n",
    "         \"context_set\": \"\"\n",
    "        })\n",
    "intents['intents'].append(\n",
    "        {\"tag\": \"goodbye\",\n",
    "         \"patterns\": [\"See you later\", \"Goodbye\", \"I am Leaving\", \"Bye\", \"Have a Good day\", \"Ma salama\", \"Fi aman Allah\"],\n",
    "         \"responses\": [\"Sad to see you go :(\", \"Talk to you later\", \"Goodbye!\", \"Ma salama\"],\n",
    "         \"context_set\": \"\"\n",
    "        })\n",
    "intents['intents'].append(\n",
    "        {\"tag\": \"name\",\n",
    "         \"patterns\": [\"What is your name\", \"What should I call you\", \"what's your name?\"],\n",
    "         \"responses\": [\"You can call me Bot, your COVID-19 chatbot. How can I help you?\", \"I'm Bot! your COVID-19 chatbot. How can I help you?\"],\n",
    "         \"context_set\": \"\"\n",
    "        })\n",
    "intents['intents'].append(\n",
    "        {\"tag\": \"error\",\n",
    "         \"patterns\": [\"error\"],\n",
    "         \"responses\": [\"I don't have that information.\", \"I am not sure what you mean.\", \"Can you clarify and make it simple.\"],\n",
    "         \"context_set\": \"\"\n",
    "        })\n",
    "intents['intents'].append(\n",
    "        {\"tag\": def_df.iloc[0][\"Tags\"],\n",
    "         \"patterns\": [def_df.iloc[0][\"Questions\"],def_df.iloc[1][\"Questions\"]],\n",
    "         \"responses\": [def_df.iloc[0][\"Answers\"]+ ' Source: Saudi Ministry of Health.', def_df.iloc[1][\"Answers\"]+ ' Source: Saudi Ministry of Health.'],\n",
    "         \"context_set\": \"\"\n",
    "        })\n",
    "for i,row in faq_df.iterrows():\n",
    "      intents['intents'].append(\n",
    "            {\"tag\": (row['Tags']),\n",
    "            \"patterns\":[row['Questions']],\n",
    "            \"responses\":[row['Answers']+ ' Source: Saudi Ministry of Health.'], \n",
    "            \"context_set\":\"\"\n",
    "            })\n",
    "for country in countries.tolist():\n",
    "    confirmed = covid_19.loc[covid_19['Location'] == (country)]['Confirmed_Cases']\n",
    "    recovered = covid_19.loc[covid_19['Location'] == (country)]['Recovered_Cases']\n",
    "    active = covid_19.loc[covid_19['Location'] == (country)]['Active_Cases']\n",
    "    fatalities = covid_19.loc[covid_19['Location'] == (country)]['Fatalities']\n",
    "    intents['intents'].append(\n",
    "            {\"tag\": (country),\n",
    "            \"patterns\":[\"what is the latest {} stats for COVID19?\".format(country), \"COVID{}?\".format(country)],\n",
    "            \"responses\":[\"{} has {} total confirmed cases, {} recovered cases, {} active cases, and {} fatalities (الله يرحمهم).\".format((country), str(confirmed.values[0]), str(recovered.values[0]), str(active.values[0]), str(fatalities.values[0]))], \n",
    "            \"context_set\":\"\"\n",
    "            })\n",
    "for key in sorting_tags.keys():\n",
    "    intents['intents'].append(\n",
    "        {\"tag\": key,\n",
    "        \"patterns\":[\"What is the latest COVID19 news {} form the Saudi {}?\".format(key, sorting_tags[key][0]['source']), \"What did the {} say about {}?\".format(sorting_tags[key][0]['source'], key),\"Is there any news about {}?\".format(key), \"What is the latest information about {}?\".format(key), \"Tell me about {}?\".format(key)],\n",
    "        \"responses\":[\"On {}, the Saudi {} tweeted: {}\".format(sorting_tags[key][0]['created_at'], sorting_tags[key][0]['source'], sorting_tags[key][0]['tweet'])], \n",
    "        \"context_set\":\"\"\n",
    "        })\n",
    "with open('intents.json', 'w') as outfile:\n",
    "    json.dump(intents, outfile)"
   ]
  },
  {
   "cell_type": "markdown",
   "metadata": {},
   "source": [
    "## Step 2. Preprocessing the Data\n",
    "\n",
    "-\tTokenization: breaking sentences into words\n",
    "-\tStemming: reducing inflectional forms of words to a common root thereby reducing the number of words and duplicate words in our vocabulary. Example: healthcare, healthier, and healthy will be replaced with health.\n",
    "\n",
    "Feature engineering: a bag of words converts text into a matrix of occurrence of words within a document. This model determines whether or not a given set of words occurs in a document.\n",
    "\n",
    "   -\tIntents contain a collection of tags with their corresponding patterns and responses.\n",
    "   -\tClasses and documents contain intents associated with patterns.\n",
    "   -\tThe pickle.dump() method is used to save the following (see Diagram 1):\n",
    "1.\twords containing the vocabulary of our project as Words.pkl\n",
    "2.\tclasses containing the total entities to classify as Classes.pkl\n",
    "\n",
    "These files are useful after the training, that is, when we predict responses."
   ]
  },
  {
   "cell_type": "markdown",
   "metadata": {},
   "source": [
    "<img src='Images/Collecting the Data.png'>\n",
    "                                                   \n",
    "                                                   Diagram 1: Preprocessing the Data"
   ]
  },
  {
   "cell_type": "code",
   "execution_count": 50,
   "metadata": {},
   "outputs": [
    {
     "name": "stderr",
     "output_type": "stream",
     "text": [
      "Using TensorFlow backend.\n",
      "/Users/Maram/opt/anaconda3/lib/python3.7/site-packages/tensorflow/python/framework/dtypes.py:526: FutureWarning:\n",
      "\n",
      "Passing (type, 1) or '1type' as a synonym of type is deprecated; in a future version of numpy, it will be understood as (type, (1,)) / '(1,)type'.\n",
      "\n",
      "/Users/Maram/opt/anaconda3/lib/python3.7/site-packages/tensorflow/python/framework/dtypes.py:527: FutureWarning:\n",
      "\n",
      "Passing (type, 1) or '1type' as a synonym of type is deprecated; in a future version of numpy, it will be understood as (type, (1,)) / '(1,)type'.\n",
      "\n",
      "/Users/Maram/opt/anaconda3/lib/python3.7/site-packages/tensorflow/python/framework/dtypes.py:528: FutureWarning:\n",
      "\n",
      "Passing (type, 1) or '1type' as a synonym of type is deprecated; in a future version of numpy, it will be understood as (type, (1,)) / '(1,)type'.\n",
      "\n",
      "/Users/Maram/opt/anaconda3/lib/python3.7/site-packages/tensorflow/python/framework/dtypes.py:529: FutureWarning:\n",
      "\n",
      "Passing (type, 1) or '1type' as a synonym of type is deprecated; in a future version of numpy, it will be understood as (type, (1,)) / '(1,)type'.\n",
      "\n",
      "/Users/Maram/opt/anaconda3/lib/python3.7/site-packages/tensorflow/python/framework/dtypes.py:530: FutureWarning:\n",
      "\n",
      "Passing (type, 1) or '1type' as a synonym of type is deprecated; in a future version of numpy, it will be understood as (type, (1,)) / '(1,)type'.\n",
      "\n",
      "/Users/Maram/opt/anaconda3/lib/python3.7/site-packages/tensorflow/python/framework/dtypes.py:535: FutureWarning:\n",
      "\n",
      "Passing (type, 1) or '1type' as a synonym of type is deprecated; in a future version of numpy, it will be understood as (type, (1,)) / '(1,)type'.\n",
      "\n"
     ]
    }
   ],
   "source": [
    "# Installing necessary libraries for building the chatbot\n",
    "import numpy as np\n",
    "from keras.models import Sequential\n",
    "from keras.layers import Dense, Activation, Dropout\n",
    "from keras.optimizers import SGD\n",
    "import random\n",
    "import nltk\n",
    "from nltk.stem import WordNetLemmatizer\n",
    "lemmatizer = WordNetLemmatizer()\n",
    "import json\n",
    "import pickle\n",
    "\n",
    "# Reading the collected data and saving it in a variable\n",
    "intents_file = open('intents.json').read()\n",
    "intents = json.loads(intents_file)"
   ]
  },
  {
   "cell_type": "code",
   "execution_count": 51,
   "metadata": {},
   "outputs": [],
   "source": [
    "words=[]\n",
    "classes = []\n",
    "documents = []\n",
    "ignore_letters = ['!', '?', ',', '.']\n",
    "for intent in intents['intents']:\n",
    "    for pattern in intent['patterns']:\n",
    "        # Tokenizing words\n",
    "        word = nltk.word_tokenize(pattern)\n",
    "        words.extend(word)        \n",
    "        # Adding documents in the corpus\n",
    "        documents.append((word, intent['tag']))\n",
    "        # Adding it to the classes list\n",
    "        if intent['tag'] not in classes:\n",
    "            classes.append(intent['tag'])\n",
    "# print(documents)"
   ]
  },
  {
   "cell_type": "code",
   "execution_count": 52,
   "metadata": {},
   "outputs": [],
   "source": [
    "# lemmaztizing words and remove duplicates\n",
    "words = [lemmatizer.lemmatize(w.lower()) for w in words if w not in ignore_letters]\n",
    "words = sorted(list(set(words)))\n",
    "# Sorting classes\n",
    "classes = sorted(list(set(classes)))\n",
    "# Documents contain combination between patterns and intents\n",
    "# print (len(documents), \"documents\")\n",
    "# Classes contain intents\n",
    "# print (len(classes), \"classes\", classes)\n",
    "# Words contain all words and vocabulary\n",
    "# print (len(words), \"unique lemmatized words\", words)\n",
    "pickle.dump(words,open('words.pkl','wb'))\n",
    "pickle.dump(classes,open('classes.pkl','wb'))"
   ]
  },
  {
   "cell_type": "markdown",
   "metadata": {},
   "source": [
    "## Step 3. Creating the Training Data"
   ]
  },
  {
   "cell_type": "markdown",
   "metadata": {},
   "source": [
    "1.\tConverting input patterns into numbers:\n",
    "  - Lemmatizing each word of the pattern and creating a list of zeroes equal to the length of the total number of words.\n",
    "  - Setting a value of 1 only to indexes that contain the word in the patterns.\n",
    "2.\tCreating the output by setting 1 to the class input to which the pattern belongs."
   ]
  },
  {
   "cell_type": "code",
   "execution_count": 53,
   "metadata": {},
   "outputs": [
    {
     "name": "stdout",
     "output_type": "stream",
     "text": [
      "Training data is created\n"
     ]
    }
   ],
   "source": [
    "# Creating the training data\n",
    "training = []\n",
    "# Creating empty array for the output\n",
    "output_empty = [0] * len(classes)\n",
    "# Training set, bag of words for every sentence\n",
    "for doc in documents:\n",
    "    # Initializing bag of words\n",
    "    bag = []\n",
    "    # list of tokenized words for the pattern\n",
    "    word_patterns = doc[0]\n",
    "    # Lemmatizing words - creating base words, in attempt to represent related words\n",
    "    word_patterns = [lemmatizer.lemmatize(word.lower()) for word in word_patterns]\n",
    "    # Creating the bag of words array with 1, if word is found in current pattern\n",
    "    for word in words:\n",
    "        bag.append(1) if word in word_patterns else bag.append(0)\n",
    "    # Output is a '0' for each tag and '1' for current tag (for each pattern)\n",
    "    output_row = list(output_empty)\n",
    "    output_row[classes.index(doc[1])] = 1\n",
    "    training.append([bag, output_row])\n",
    "# Shuffling the features and make numpy array\n",
    "random.shuffle(training)\n",
    "training = np.array(training)\n",
    "# Creating training and testing lists. X - patterns, Y - intents\n",
    "train_x = list(training[:,0])\n",
    "train_y = list(training[:,1])\n",
    "print(\"Training data is created\")"
   ]
  },
  {
   "cell_type": "markdown",
   "metadata": {},
   "source": [
    "## Step 4. Training the Model"
   ]
  },
  {
   "cell_type": "markdown",
   "metadata": {},
   "source": [
    "## Model Summary"
   ]
  },
  {
   "cell_type": "markdown",
   "metadata": {},
   "source": [
    "<div style=\"text-align: justify\">The sequential deep neural network model was used for this project. This model is a linear stack of layers. It was chosen because of its multiclass classification, which works well for the purposes of this project. </div>"
   ]
  },
  {
   "cell_type": "markdown",
   "metadata": {},
   "source": [
    "<div style=\"text-align: justify\">The model performed best when using stochastic gradient descent (SGD), which was chosen over gradient descent because it is much faster. SGD has a smoothness property called soft max used for activation. A Nestrov accelerated gradient was employed in order to not miss the minima. After a trial-and-error process, five batches and 200 epochs suited our model. In addition, the ReLU activation function was replaced with leaky ReLU in part because it accelerated the training process and performed better.</div>"
   ]
  },
  {
   "cell_type": "markdown",
   "metadata": {},
   "source": [
    "<div style=\"text-align: justify\"> The model did not perform well in the sequential model when adding more than three layers. L1 regularization (lasso) and L2 regularization (ridge) did not work well with the model, either. </div>"
   ]
  },
  {
   "cell_type": "markdown",
   "metadata": {},
   "source": [
    "### Deep Neural Network Model"
   ]
  },
  {
   "cell_type": "markdown",
   "metadata": {},
   "source": [
    "1.\tThe sequential neural network consists of three dense layers:\n",
    "   - First layer (256 neurons)\n",
    "   - Hidden layer (128 neurons) \n",
    "   - Last layer (the number of neurons is similar to the number of classes) \n",
    "2.\tOverfitting was reduced by adding dropout layers \n",
    "3.\tSGD optimizer and data fitting were used to train the model\n",
    "   - Performs a parameter update for each training \n",
    "   - Fast technique\n",
    "   - Performs one update at a time\n",
    "   - SGD is a parameter used to determine find most optimal model\n",
    "4.\tThe Nestrov accelerated gradient was employed.\n",
    "5.\tAfter being trained for 200 epochs, the model was saved using the Keras model.save(“chatbot_model.h5”) function."
   ]
  },
  {
   "cell_type": "markdown",
   "metadata": {},
   "source": [
    "<img src='Images/Model_Plot.png'>\n",
    "                                                              \n",
    "                                                       Diagram 2: DNN Layers"
   ]
  },
  {
   "cell_type": "code",
   "execution_count": 54,
   "metadata": {},
   "outputs": [
    {
     "name": "stdout",
     "output_type": "stream",
     "text": [
      "WARNING:tensorflow:From /Users/Maram/opt/anaconda3/lib/python3.7/site-packages/tensorflow/python/ops/resource_variable_ops.py:435: colocate_with (from tensorflow.python.framework.ops) is deprecated and will be removed in a future version.\n",
      "Instructions for updating:\n",
      "Colocations handled automatically by placer.\n",
      "WARNING:tensorflow:From /Users/Maram/opt/anaconda3/lib/python3.7/site-packages/tensorflow/python/ops/math_ops.py:3066: to_int32 (from tensorflow.python.ops.math_ops) is deprecated and will be removed in a future version.\n",
      "Instructions for updating:\n",
      "Use tf.cast instead.\n",
      "Epoch 1/200\n",
      "504/504 [==============================] - 1s 2ms/step - loss: 5.4070 - accuracy: 0.0020\n",
      "Epoch 2/200\n",
      "504/504 [==============================] - 0s 671us/step - loss: 5.3797 - accuracy: 0.0099\n",
      "Epoch 3/200\n",
      "504/504 [==============================] - 0s 641us/step - loss: 5.3026 - accuracy: 0.0218\n",
      "Epoch 4/200\n",
      "504/504 [==============================] - 0s 609us/step - loss: 5.1637 - accuracy: 0.0119\n",
      "Epoch 5/200\n",
      "504/504 [==============================] - 0s 617us/step - loss: 5.0391 - accuracy: 0.0179\n",
      "Epoch 6/200\n",
      "504/504 [==============================] - 0s 720us/step - loss: 5.0183 - accuracy: 0.0218\n",
      "Epoch 7/200\n",
      "504/504 [==============================] - 0s 814us/step - loss: 4.9919 - accuracy: 0.0218\n",
      "Epoch 8/200\n",
      "504/504 [==============================] - 0s 693us/step - loss: 4.9348 - accuracy: 0.0456\n",
      "Epoch 9/200\n",
      "504/504 [==============================] - 0s 506us/step - loss: 4.8949 - accuracy: 0.0476\n",
      "Epoch 10/200\n",
      "504/504 [==============================] - 0s 533us/step - loss: 4.8981 - accuracy: 0.0317\n",
      "Epoch 11/200\n",
      "504/504 [==============================] - 0s 580us/step - loss: 4.8332 - accuracy: 0.0536\n",
      "Epoch 12/200\n",
      "504/504 [==============================] - 0s 480us/step - loss: 4.7747 - accuracy: 0.0615\n",
      "Epoch 13/200\n",
      "504/504 [==============================] - 0s 523us/step - loss: 4.6962 - accuracy: 0.0714\n",
      "Epoch 14/200\n",
      "504/504 [==============================] - 0s 555us/step - loss: 4.6801 - accuracy: 0.0774\n",
      "Epoch 15/200\n",
      "504/504 [==============================] - 0s 509us/step - loss: 4.6014 - accuracy: 0.0933\n",
      "Epoch 16/200\n",
      "504/504 [==============================] - 0s 499us/step - loss: 4.4802 - accuracy: 0.1210\n",
      "Epoch 17/200\n",
      "504/504 [==============================] - 0s 593us/step - loss: 4.3878 - accuracy: 0.1448\n",
      "Epoch 18/200\n",
      "504/504 [==============================] - 0s 574us/step - loss: 4.3348 - accuracy: 0.1647\n",
      "Epoch 19/200\n",
      "504/504 [==============================] - 0s 532us/step - loss: 4.2241 - accuracy: 0.1905\n",
      "Epoch 20/200\n",
      "504/504 [==============================] - 0s 495us/step - loss: 4.1858 - accuracy: 0.1944\n",
      "Epoch 21/200\n",
      "504/504 [==============================] - 0s 488us/step - loss: 4.1011 - accuracy: 0.2103\n",
      "Epoch 22/200\n",
      "504/504 [==============================] - 0s 470us/step - loss: 4.0357 - accuracy: 0.2302\n",
      "Epoch 23/200\n",
      "504/504 [==============================] - 0s 480us/step - loss: 3.9511 - accuracy: 0.2282\n",
      "Epoch 24/200\n",
      "504/504 [==============================] - 0s 482us/step - loss: 3.9188 - accuracy: 0.2381\n",
      "Epoch 25/200\n",
      "504/504 [==============================] - 0s 497us/step - loss: 3.8328 - accuracy: 0.2619\n",
      "Epoch 26/200\n",
      "504/504 [==============================] - 0s 523us/step - loss: 3.8083 - accuracy: 0.2619\n",
      "Epoch 27/200\n",
      "504/504 [==============================] - 0s 545us/step - loss: 3.7395 - accuracy: 0.2798\n",
      "Epoch 28/200\n",
      "504/504 [==============================] - 0s 510us/step - loss: 3.6808 - accuracy: 0.2758\n",
      "Epoch 29/200\n",
      "504/504 [==============================] - 0s 528us/step - loss: 3.6298 - accuracy: 0.3056\n",
      "Epoch 30/200\n",
      "504/504 [==============================] - 0s 506us/step - loss: 3.6244 - accuracy: 0.2817\n",
      "Epoch 31/200\n",
      "504/504 [==============================] - 0s 497us/step - loss: 3.5842 - accuracy: 0.3056\n",
      "Epoch 32/200\n",
      "504/504 [==============================] - 0s 496us/step - loss: 3.4748 - accuracy: 0.3313\n",
      "Epoch 33/200\n",
      "504/504 [==============================] - 0s 472us/step - loss: 3.4701 - accuracy: 0.3234\n",
      "Epoch 34/200\n",
      "504/504 [==============================] - 0s 585us/step - loss: 3.3667 - accuracy: 0.3294\n",
      "Epoch 35/200\n",
      "504/504 [==============================] - 0s 508us/step - loss: 3.3190 - accuracy: 0.3452\n",
      "Epoch 36/200\n",
      "504/504 [==============================] - 0s 496us/step - loss: 3.2331 - accuracy: 0.3611\n",
      "Epoch 37/200\n",
      "504/504 [==============================] - 0s 526us/step - loss: 3.2381 - accuracy: 0.3492\n",
      "Epoch 38/200\n",
      "504/504 [==============================] - 0s 583us/step - loss: 3.1242 - accuracy: 0.3869\n",
      "Epoch 39/200\n",
      "504/504 [==============================] - 0s 492us/step - loss: 3.0799 - accuracy: 0.4028\n",
      "Epoch 40/200\n",
      "504/504 [==============================] - 0s 494us/step - loss: 3.0188 - accuracy: 0.4067\n",
      "Epoch 41/200\n",
      "504/504 [==============================] - 0s 490us/step - loss: 3.0471 - accuracy: 0.3869\n",
      "Epoch 42/200\n",
      "504/504 [==============================] - 0s 494us/step - loss: 2.9613 - accuracy: 0.4206\n",
      "Epoch 43/200\n",
      "504/504 [==============================] - 0s 518us/step - loss: 2.8622 - accuracy: 0.4325\n",
      "Epoch 44/200\n",
      "504/504 [==============================] - 0s 502us/step - loss: 2.8482 - accuracy: 0.4286\n",
      "Epoch 45/200\n",
      "504/504 [==============================] - 0s 496us/step - loss: 2.7329 - accuracy: 0.4484\n",
      "Epoch 46/200\n",
      "504/504 [==============================] - 0s 486us/step - loss: 2.7859 - accuracy: 0.4504\n",
      "Epoch 47/200\n",
      "504/504 [==============================] - 0s 571us/step - loss: 2.6300 - accuracy: 0.4802\n",
      "Epoch 48/200\n",
      "504/504 [==============================] - 0s 594us/step - loss: 2.5877 - accuracy: 0.4802\n",
      "Epoch 49/200\n",
      "504/504 [==============================] - 0s 499us/step - loss: 2.5709 - accuracy: 0.4861\n",
      "Epoch 50/200\n",
      "504/504 [==============================] - 0s 481us/step - loss: 2.5531 - accuracy: 0.4881\n",
      "Epoch 51/200\n",
      "504/504 [==============================] - 0s 599us/step - loss: 2.5361 - accuracy: 0.4722\n",
      "Epoch 52/200\n",
      "504/504 [==============================] - 0s 474us/step - loss: 2.3837 - accuracy: 0.5159\n",
      "Epoch 53/200\n",
      "504/504 [==============================] - 0s 467us/step - loss: 2.3605 - accuracy: 0.5099\n",
      "Epoch 54/200\n",
      "504/504 [==============================] - 0s 476us/step - loss: 2.3289 - accuracy: 0.5238\n",
      "Epoch 55/200\n",
      "504/504 [==============================] - 0s 483us/step - loss: 2.2637 - accuracy: 0.5476\n",
      "Epoch 56/200\n",
      "504/504 [==============================] - 0s 474us/step - loss: 2.2430 - accuracy: 0.5417\n",
      "Epoch 57/200\n",
      "504/504 [==============================] - 0s 470us/step - loss: 2.1223 - accuracy: 0.5754\n",
      "Epoch 58/200\n",
      "504/504 [==============================] - 0s 474us/step - loss: 2.1339 - accuracy: 0.5635\n",
      "Epoch 59/200\n",
      "504/504 [==============================] - 0s 536us/step - loss: 2.1161 - accuracy: 0.5417\n",
      "Epoch 60/200\n",
      "504/504 [==============================] - 0s 480us/step - loss: 1.9464 - accuracy: 0.6111\n",
      "Epoch 61/200\n",
      "504/504 [==============================] - 0s 482us/step - loss: 1.9962 - accuracy: 0.5556\n",
      "Epoch 62/200\n",
      "504/504 [==============================] - 0s 472us/step - loss: 1.9524 - accuracy: 0.6111\n",
      "Epoch 63/200\n",
      "504/504 [==============================] - 0s 506us/step - loss: 1.9157 - accuracy: 0.5853\n",
      "Epoch 64/200\n",
      "504/504 [==============================] - 0s 474us/step - loss: 1.7311 - accuracy: 0.6210\n",
      "Epoch 65/200\n",
      "504/504 [==============================] - 0s 476us/step - loss: 1.8578 - accuracy: 0.5893\n",
      "Epoch 66/200\n",
      "504/504 [==============================] - 0s 474us/step - loss: 1.6823 - accuracy: 0.6190\n",
      "Epoch 67/200\n",
      "504/504 [==============================] - 0s 498us/step - loss: 1.7211 - accuracy: 0.6171\n",
      "Epoch 68/200\n",
      "504/504 [==============================] - 0s 488us/step - loss: 1.6674 - accuracy: 0.6488\n",
      "Epoch 69/200\n",
      "504/504 [==============================] - 0s 474us/step - loss: 1.5936 - accuracy: 0.6567\n",
      "Epoch 70/200\n",
      "504/504 [==============================] - 0s 483us/step - loss: 1.5749 - accuracy: 0.6548\n",
      "Epoch 71/200\n",
      "504/504 [==============================] - 0s 534us/step - loss: 1.6369 - accuracy: 0.6528\n",
      "Epoch 72/200\n",
      "504/504 [==============================] - 0s 505us/step - loss: 1.6012 - accuracy: 0.6587\n",
      "Epoch 73/200\n",
      "504/504 [==============================] - 0s 501us/step - loss: 1.5624 - accuracy: 0.6250\n",
      "Epoch 74/200\n",
      "504/504 [==============================] - 0s 496us/step - loss: 1.4513 - accuracy: 0.6885\n",
      "Epoch 75/200\n",
      "504/504 [==============================] - 0s 538us/step - loss: 1.5009 - accuracy: 0.6528\n",
      "Epoch 76/200\n",
      "504/504 [==============================] - 0s 617us/step - loss: 1.4149 - accuracy: 0.6508\n",
      "Epoch 77/200\n",
      "504/504 [==============================] - 0s 468us/step - loss: 1.4566 - accuracy: 0.6706\n",
      "Epoch 78/200\n",
      "504/504 [==============================] - 0s 488us/step - loss: 1.3384 - accuracy: 0.6905\n",
      "Epoch 79/200\n",
      "504/504 [==============================] - 0s 526us/step - loss: 1.3388 - accuracy: 0.6944\n",
      "Epoch 80/200\n",
      "504/504 [==============================] - 0s 562us/step - loss: 1.3029 - accuracy: 0.6825\n",
      "Epoch 81/200\n",
      "504/504 [==============================] - 0s 484us/step - loss: 1.3064 - accuracy: 0.6964\n",
      "Epoch 82/200\n",
      "504/504 [==============================] - 0s 502us/step - loss: 1.2380 - accuracy: 0.7044\n",
      "Epoch 83/200\n",
      "504/504 [==============================] - 0s 484us/step - loss: 1.2606 - accuracy: 0.7004\n",
      "Epoch 84/200\n",
      "504/504 [==============================] - 0s 548us/step - loss: 1.2252 - accuracy: 0.7183\n",
      "Epoch 85/200\n",
      "504/504 [==============================] - 0s 512us/step - loss: 1.1057 - accuracy: 0.7401\n",
      "Epoch 86/200\n",
      "504/504 [==============================] - 0s 498us/step - loss: 1.0411 - accuracy: 0.7401\n",
      "Epoch 87/200\n",
      "504/504 [==============================] - 0s 473us/step - loss: 1.0901 - accuracy: 0.7381\n",
      "Epoch 88/200\n",
      "504/504 [==============================] - 0s 493us/step - loss: 1.0753 - accuracy: 0.7500\n",
      "Epoch 89/200\n",
      "504/504 [==============================] - 0s 491us/step - loss: 1.0492 - accuracy: 0.7282\n",
      "Epoch 90/200\n",
      "504/504 [==============================] - 0s 484us/step - loss: 0.9836 - accuracy: 0.7639\n",
      "Epoch 91/200\n",
      "504/504 [==============================] - 0s 489us/step - loss: 1.0017 - accuracy: 0.7639\n",
      "Epoch 92/200\n",
      "504/504 [==============================] - 0s 474us/step - loss: 0.9385 - accuracy: 0.7778\n",
      "Epoch 93/200\n",
      "504/504 [==============================] - 0s 471us/step - loss: 1.0272 - accuracy: 0.7440\n",
      "Epoch 94/200\n",
      "504/504 [==============================] - 0s 485us/step - loss: 1.0625 - accuracy: 0.7381\n",
      "Epoch 95/200\n",
      "504/504 [==============================] - 0s 477us/step - loss: 0.9749 - accuracy: 0.7659\n",
      "Epoch 96/200\n",
      "504/504 [==============================] - 0s 543us/step - loss: 0.9352 - accuracy: 0.7857\n",
      "Epoch 97/200\n",
      "504/504 [==============================] - 0s 508us/step - loss: 0.8959 - accuracy: 0.7897\n",
      "Epoch 98/200\n",
      "504/504 [==============================] - 0s 473us/step - loss: 0.9008 - accuracy: 0.7798\n",
      "Epoch 99/200\n",
      "504/504 [==============================] - 0s 622us/step - loss: 0.9281 - accuracy: 0.7698\n",
      "Epoch 100/200\n",
      "504/504 [==============================] - 0s 485us/step - loss: 0.8353 - accuracy: 0.7877\n",
      "Epoch 101/200\n",
      "504/504 [==============================] - 0s 544us/step - loss: 0.8230 - accuracy: 0.7857\n",
      "Epoch 102/200\n",
      "504/504 [==============================] - 0s 514us/step - loss: 0.7770 - accuracy: 0.7798\n",
      "Epoch 103/200\n",
      "504/504 [==============================] - 0s 478us/step - loss: 0.8688 - accuracy: 0.7718\n",
      "Epoch 104/200\n",
      "504/504 [==============================] - 0s 464us/step - loss: 0.7418 - accuracy: 0.8135\n",
      "Epoch 105/200\n",
      "504/504 [==============================] - 0s 480us/step - loss: 0.9182 - accuracy: 0.7500\n",
      "Epoch 106/200\n",
      "504/504 [==============================] - 0s 473us/step - loss: 0.8613 - accuracy: 0.7778\n",
      "Epoch 107/200\n",
      "504/504 [==============================] - 0s 481us/step - loss: 0.7918 - accuracy: 0.7956\n",
      "Epoch 108/200\n",
      "504/504 [==============================] - 0s 466us/step - loss: 0.8515 - accuracy: 0.7520\n",
      "Epoch 109/200\n",
      "504/504 [==============================] - 0s 472us/step - loss: 0.6847 - accuracy: 0.8313\n",
      "Epoch 110/200\n",
      "504/504 [==============================] - 0s 534us/step - loss: 0.7497 - accuracy: 0.8056\n",
      "Epoch 111/200\n",
      "504/504 [==============================] - 0s 518us/step - loss: 0.7696 - accuracy: 0.8056\n",
      "Epoch 112/200\n",
      "504/504 [==============================] - 0s 485us/step - loss: 0.6166 - accuracy: 0.8313\n",
      "Epoch 113/200\n",
      "504/504 [==============================] - 0s 547us/step - loss: 0.7799 - accuracy: 0.7996\n",
      "Epoch 114/200\n",
      "504/504 [==============================] - 0s 612us/step - loss: 0.8142 - accuracy: 0.7857\n",
      "Epoch 115/200\n",
      "504/504 [==============================] - 0s 477us/step - loss: 0.7202 - accuracy: 0.8294\n",
      "Epoch 116/200\n",
      "504/504 [==============================] - 0s 546us/step - loss: 0.7109 - accuracy: 0.8175\n",
      "Epoch 117/200\n",
      "504/504 [==============================] - 0s 513us/step - loss: 0.7941 - accuracy: 0.7917\n",
      "Epoch 118/200\n",
      "504/504 [==============================] - 0s 480us/step - loss: 0.6669 - accuracy: 0.8333\n",
      "Epoch 119/200\n",
      "504/504 [==============================] - 0s 482us/step - loss: 0.6209 - accuracy: 0.8492\n",
      "Epoch 120/200\n",
      "504/504 [==============================] - 0s 472us/step - loss: 0.6112 - accuracy: 0.8313\n",
      "Epoch 121/200\n",
      "504/504 [==============================] - 0s 491us/step - loss: 0.5718 - accuracy: 0.8294\n",
      "Epoch 122/200\n",
      "504/504 [==============================] - 0s 478us/step - loss: 0.5355 - accuracy: 0.8571\n",
      "Epoch 123/200\n",
      "504/504 [==============================] - 0s 468us/step - loss: 0.6494 - accuracy: 0.8234\n",
      "Epoch 124/200\n",
      "504/504 [==============================] - 0s 520us/step - loss: 0.5396 - accuracy: 0.8492\n",
      "Epoch 125/200\n",
      "504/504 [==============================] - 0s 474us/step - loss: 0.5290 - accuracy: 0.8611\n",
      "Epoch 126/200\n",
      "504/504 [==============================] - 0s 491us/step - loss: 0.5274 - accuracy: 0.8512\n",
      "Epoch 127/200\n",
      "504/504 [==============================] - 0s 485us/step - loss: 0.7076 - accuracy: 0.8155\n",
      "Epoch 128/200\n",
      "504/504 [==============================] - 0s 487us/step - loss: 0.6974 - accuracy: 0.8095\n",
      "Epoch 129/200\n",
      "504/504 [==============================] - 0s 480us/step - loss: 0.6775 - accuracy: 0.8155\n",
      "Epoch 130/200\n",
      "504/504 [==============================] - 0s 500us/step - loss: 0.5739 - accuracy: 0.8651\n",
      "Epoch 131/200\n",
      "504/504 [==============================] - 0s 555us/step - loss: 0.4923 - accuracy: 0.8710\n",
      "Epoch 132/200\n",
      "504/504 [==============================] - 0s 490us/step - loss: 0.6179 - accuracy: 0.8214\n",
      "Epoch 133/200\n",
      "504/504 [==============================] - 0s 480us/step - loss: 0.5216 - accuracy: 0.8591\n",
      "Epoch 134/200\n",
      "504/504 [==============================] - 0s 485us/step - loss: 0.4408 - accuracy: 0.8849\n",
      "Epoch 135/200\n",
      "504/504 [==============================] - 0s 477us/step - loss: 0.5227 - accuracy: 0.8631\n",
      "Epoch 136/200\n",
      "504/504 [==============================] - 0s 477us/step - loss: 0.5893 - accuracy: 0.8373\n",
      "Epoch 137/200\n",
      "504/504 [==============================] - 0s 519us/step - loss: 0.5809 - accuracy: 0.8433\n",
      "Epoch 138/200\n",
      "504/504 [==============================] - 0s 496us/step - loss: 0.5381 - accuracy: 0.8472\n",
      "Epoch 139/200\n",
      "504/504 [==============================] - 0s 478us/step - loss: 0.5278 - accuracy: 0.8552\n",
      "Epoch 140/200\n",
      "504/504 [==============================] - 0s 505us/step - loss: 0.5673 - accuracy: 0.8433\n",
      "Epoch 141/200\n",
      "504/504 [==============================] - 0s 502us/step - loss: 0.5179 - accuracy: 0.8591\n",
      "Epoch 142/200\n",
      "504/504 [==============================] - 0s 477us/step - loss: 0.5555 - accuracy: 0.8532\n",
      "Epoch 143/200\n",
      "504/504 [==============================] - 0s 487us/step - loss: 0.5256 - accuracy: 0.8472\n",
      "Epoch 144/200\n",
      "504/504 [==============================] - 0s 465us/step - loss: 0.5647 - accuracy: 0.8393\n",
      "Epoch 145/200\n",
      "504/504 [==============================] - 0s 482us/step - loss: 0.5990 - accuracy: 0.8313\n",
      "Epoch 146/200\n",
      "504/504 [==============================] - 0s 672us/step - loss: 0.5347 - accuracy: 0.8611\n",
      "Epoch 147/200\n",
      "504/504 [==============================] - 0s 564us/step - loss: 0.4796 - accuracy: 0.8810\n",
      "Epoch 148/200\n",
      "504/504 [==============================] - 0s 585us/step - loss: 0.4663 - accuracy: 0.8770\n",
      "Epoch 149/200\n",
      "504/504 [==============================] - 0s 529us/step - loss: 0.4627 - accuracy: 0.8750\n",
      "Epoch 150/200\n",
      "504/504 [==============================] - 0s 535us/step - loss: 0.4173 - accuracy: 0.8988\n",
      "Epoch 151/200\n",
      "504/504 [==============================] - 0s 518us/step - loss: 0.3856 - accuracy: 0.8929\n",
      "Epoch 152/200\n"
     ]
    },
    {
     "name": "stdout",
     "output_type": "stream",
     "text": [
      "504/504 [==============================] - 0s 505us/step - loss: 0.5474 - accuracy: 0.8492\n",
      "Epoch 153/200\n",
      "504/504 [==============================] - 0s 487us/step - loss: 0.5214 - accuracy: 0.8472\n",
      "Epoch 154/200\n",
      "504/504 [==============================] - 0s 491us/step - loss: 0.3784 - accuracy: 0.8909\n",
      "Epoch 155/200\n",
      "504/504 [==============================] - 0s 511us/step - loss: 0.5597 - accuracy: 0.8571\n",
      "Epoch 156/200\n",
      "504/504 [==============================] - 0s 537us/step - loss: 0.5427 - accuracy: 0.8671\n",
      "Epoch 157/200\n",
      "504/504 [==============================] - 0s 522us/step - loss: 0.4678 - accuracy: 0.8770\n",
      "Epoch 158/200\n",
      "504/504 [==============================] - 0s 503us/step - loss: 0.3973 - accuracy: 0.8929\n",
      "Epoch 159/200\n",
      "504/504 [==============================] - 0s 472us/step - loss: 0.3848 - accuracy: 0.8988\n",
      "Epoch 160/200\n",
      "504/504 [==============================] - 0s 501us/step - loss: 0.4299 - accuracy: 0.8770\n",
      "Epoch 161/200\n",
      "504/504 [==============================] - 0s 613us/step - loss: 0.4552 - accuracy: 0.8889\n",
      "Epoch 162/200\n",
      "504/504 [==============================] - 0s 524us/step - loss: 0.3033 - accuracy: 0.9187\n",
      "Epoch 163/200\n",
      "504/504 [==============================] - 0s 615us/step - loss: 0.3731 - accuracy: 0.8988\n",
      "Epoch 164/200\n",
      "504/504 [==============================] - 0s 758us/step - loss: 0.4253 - accuracy: 0.8730\n",
      "Epoch 165/200\n",
      "504/504 [==============================] - 0s 560us/step - loss: 0.3489 - accuracy: 0.9107\n",
      "Epoch 166/200\n",
      "504/504 [==============================] - 0s 570us/step - loss: 0.3513 - accuracy: 0.9087\n",
      "Epoch 167/200\n",
      "504/504 [==============================] - 0s 559us/step - loss: 0.4026 - accuracy: 0.8849\n",
      "Epoch 168/200\n",
      "504/504 [==============================] - 0s 584us/step - loss: 0.5351 - accuracy: 0.8671\n",
      "Epoch 169/200\n",
      "504/504 [==============================] - 0s 513us/step - loss: 0.4857 - accuracy: 0.8611\n",
      "Epoch 170/200\n",
      "504/504 [==============================] - 0s 552us/step - loss: 0.4680 - accuracy: 0.8690\n",
      "Epoch 171/200\n",
      "504/504 [==============================] - 0s 502us/step - loss: 0.3979 - accuracy: 0.8929\n",
      "Epoch 172/200\n",
      "504/504 [==============================] - 0s 714us/step - loss: 0.4053 - accuracy: 0.8829\n",
      "Epoch 173/200\n",
      "504/504 [==============================] - 0s 539us/step - loss: 0.3623 - accuracy: 0.9008\n",
      "Epoch 174/200\n",
      "504/504 [==============================] - 0s 488us/step - loss: 0.2973 - accuracy: 0.9147\n",
      "Epoch 175/200\n",
      "504/504 [==============================] - 0s 530us/step - loss: 0.4614 - accuracy: 0.8710\n",
      "Epoch 176/200\n",
      "504/504 [==============================] - 0s 492us/step - loss: 0.3629 - accuracy: 0.9067\n",
      "Epoch 177/200\n",
      "504/504 [==============================] - 0s 492us/step - loss: 0.4647 - accuracy: 0.8750\n",
      "Epoch 178/200\n",
      "504/504 [==============================] - 0s 686us/step - loss: 0.4260 - accuracy: 0.9028\n",
      "Epoch 179/200\n",
      "504/504 [==============================] - 0s 604us/step - loss: 0.3042 - accuracy: 0.9167\n",
      "Epoch 180/200\n",
      "504/504 [==============================] - 0s 491us/step - loss: 0.4306 - accuracy: 0.8869\n",
      "Epoch 181/200\n",
      "504/504 [==============================] - 0s 665us/step - loss: 0.3729 - accuracy: 0.9087\n",
      "Epoch 182/200\n",
      "504/504 [==============================] - 0s 538us/step - loss: 0.4352 - accuracy: 0.8770\n",
      "Epoch 183/200\n",
      "504/504 [==============================] - 0s 496us/step - loss: 0.3862 - accuracy: 0.8968\n",
      "Epoch 184/200\n",
      "504/504 [==============================] - 0s 566us/step - loss: 0.4736 - accuracy: 0.8710\n",
      "Epoch 185/200\n",
      "504/504 [==============================] - 0s 496us/step - loss: 0.3099 - accuracy: 0.9167\n",
      "Epoch 186/200\n",
      "504/504 [==============================] - 0s 644us/step - loss: 0.3034 - accuracy: 0.9147\n",
      "Epoch 187/200\n",
      "504/504 [==============================] - 0s 694us/step - loss: 0.2555 - accuracy: 0.9226\n",
      "Epoch 188/200\n",
      "504/504 [==============================] - 0s 676us/step - loss: 0.3403 - accuracy: 0.9067\n",
      "Epoch 189/200\n",
      "504/504 [==============================] - 0s 573us/step - loss: 0.5573 - accuracy: 0.8690\n",
      "Epoch 190/200\n",
      "504/504 [==============================] - 0s 582us/step - loss: 0.5316 - accuracy: 0.8710\n",
      "Epoch 191/200\n",
      "504/504 [==============================] - 0s 576us/step - loss: 0.5059 - accuracy: 0.8651\n",
      "Epoch 192/200\n",
      "504/504 [==============================] - 0s 493us/step - loss: 0.3576 - accuracy: 0.9008\n",
      "Epoch 193/200\n",
      "504/504 [==============================] - 0s 526us/step - loss: 0.3397 - accuracy: 0.9028\n",
      "Epoch 194/200\n",
      "504/504 [==============================] - 0s 775us/step - loss: 0.4506 - accuracy: 0.8790\n",
      "Epoch 195/200\n",
      "504/504 [==============================] - 0s 594us/step - loss: 0.4829 - accuracy: 0.8690\n",
      "Epoch 196/200\n",
      "504/504 [==============================] - 0s 772us/step - loss: 0.3190 - accuracy: 0.9107\n",
      "Epoch 197/200\n",
      "504/504 [==============================] - 0s 764us/step - loss: 0.2226 - accuracy: 0.9325\n",
      "Epoch 198/200\n",
      "504/504 [==============================] - 0s 521us/step - loss: 0.2341 - accuracy: 0.9246\n",
      "Epoch 199/200\n",
      "504/504 [==============================] - 0s 679us/step - loss: 0.3133 - accuracy: 0.9127\n",
      "Epoch 200/200\n",
      "504/504 [==============================] - 0s 658us/step - loss: 0.2602 - accuracy: 0.9246\n",
      "model is created\n"
     ]
    }
   ],
   "source": [
    "from keras.layers import LeakyReLU\n",
    "from keras import regularizers\n",
    "\n",
    "model = Sequential()\n",
    "\n",
    "## First layer \n",
    "model.add(Dense(256, input_shape=(len(train_x[0]),),))\n",
    "\n",
    "# Adding a ReLU layer explicitly:\n",
    "model.add(LeakyReLU(alpha=0.05))\n",
    "model.add(Dropout(0.5))\n",
    "\n",
    "## Hidden layer\n",
    "model.add(Dense(128))\n",
    "model.add(LeakyReLU(alpha=0.05))\n",
    "model.add(Dropout(0.5))\n",
    "\n",
    "# Output layer\n",
    "model.add(Dense(len(train_y[0]), activation='softmax'))\n",
    "\n",
    "# Compiling model. \n",
    "# Uing SGD with Nesterov accelerated gradient would enhance the results for this model\n",
    "sgd = SGD(lr=0.01, decay=1e-6, momentum=0.9, nesterov=True)\n",
    "model.compile(loss='categorical_crossentropy', optimizer=sgd, metrics=['accuracy'])\n",
    "\n",
    "# Training and saving the model \n",
    "hist = model.fit(np.array(train_x), np.array(train_y), epochs=200, batch_size=5, verbose=1)\n",
    "model.save('chatbot_model.h5', hist)\n",
    "print(\"model is created\")"
   ]
  },
  {
   "cell_type": "markdown",
   "metadata": {},
   "source": [
    "## Model Evaluation"
   ]
  },
  {
   "cell_type": "markdown",
   "metadata": {},
   "source": [
    "The tag class accuracy rate started at zero accuracy and gradually rose to over 80% at 200 epochs. Unlike the tag class accuracy rate, the class loss rate dropped gradually, falling below one at 200 epochs (see visualization below)."
   ]
  },
  {
   "cell_type": "code",
   "execution_count": 55,
   "metadata": {},
   "outputs": [
    {
     "name": "stdout",
     "output_type": "stream",
     "text": [
      "0.2602419751889832\n"
     ]
    }
   ],
   "source": [
    "print(hist.history['loss'][-1])"
   ]
  },
  {
   "cell_type": "markdown",
   "metadata": {},
   "source": [
    "### Visualization"
   ]
  },
  {
   "cell_type": "code",
   "execution_count": 59,
   "metadata": {},
   "outputs": [
    {
     "data": {
      "image/png": "[encoded data removed]",
      "text/plain": [
       "<Figure size 432x288 with 1 Axes>"
      ]
     },
     "metadata": {
      "needs_background": "light"
     },
     "output_type": "display_data"
    }
   ],
   "source": [
    "# Creating a tag class loss rate plot\n",
    "import matplotlib.pyplot as plt\n",
    "plt.plot(hist.history['loss'], 'r')\n",
    "plt.xlabel('Epochs')\n",
    "plt.ylabel('Loss')\n",
    "plt.title('Tag Class Loss Rate')\n",
    "plt.show();"
   ]
  },
  {
   "cell_type": "code",
   "execution_count": 57,
   "metadata": {},
   "outputs": [
    {
     "data": {
      "image/png": "[encoded data removed]",
      "text/plain": [
       "<Figure size 432x288 with 1 Axes>"
      ]
     },
     "metadata": {
      "needs_background": "light"
     },
     "output_type": "display_data"
    }
   ],
   "source": [
    "# Creating a tag class accuracy rate plot\n",
    "plt.plot(hist.history['accuracy'], 'r')\n",
    "plt.xlabel('Epochs')\n",
    "plt.ylabel('Accuracy Rate')\n",
    "plt.title('Tag Class Accuracy Rate')\n",
    "plt.show();"
   ]
  },
  {
   "cell_type": "markdown",
   "metadata": {},
   "source": [
    "## Model Performance\n",
    "\n",
    "To measure the chatbot's perfromance, variation of the model were tested using the same five questions. The current model performed the best by getting 4 questions right (see Table 1). \n",
    "<img src='Images/Model Performance.png'>\n",
    "                                                   \n",
    "                                                    Table 1. Model Performance"
   ]
  },
  {
   "cell_type": "markdown",
   "metadata": {},
   "source": [
    "## Step 5. Interacting With the Chatbot\n",
    "The chatbot was programmed to predict the class to which a pattern belongs in order to retrieve an answer that matches a query. "
   ]
  },
  {
   "cell_type": "code",
   "execution_count": 58,
   "metadata": {},
   "outputs": [],
   "source": [
    "# Chatbot output\n",
    "from keras.models import load_model\n",
    "chat_model = load_model('chatbot_model.h5')\n",
    "\n",
    "intents = json.loads(open('intents.json').read())\n",
    "words = pickle.load(open('words.pkl','rb'))\n",
    "classes = pickle.load(open('classes.pkl','rb'))\n",
    "\n",
    "def clean_up_sentence(sentence):\n",
    "    # Tokenizing the pattern\n",
    "    # Splitting words into array\n",
    "    sentence_words = nltk.word_tokenize(sentence)\n",
    "    # Stemming every word\n",
    "    # Reducing to base form\n",
    "    sentence_words = [lemmatizer.lemmatize(word.lower()) for word in sentence_words]\n",
    "    return sentence_words\n",
    "\n",
    "# Return bag of words array: 0 or 1 for words that exist in sentence\n",
    "def bag_of_words(sentence, words, show_details=True):\n",
    "    # Tokenizing patterns\n",
    "    sentence_words = clean_up_sentence(sentence)\n",
    "    # Bag of words\n",
    "    # Vocabulary matrix\n",
    "    bag = [0]*len(words)  \n",
    "    for s in sentence_words:\n",
    "        for i,word in enumerate(words):\n",
    "            if word == s: \n",
    "                # Assigning 1 if current word is in the vocabulary position\n",
    "                bag[i] = 1\n",
    "                if show_details:\n",
    "                    print (\"found in bag: %s\" % word)\n",
    "    return(np.array(bag))\n",
    "\n",
    "def predict_class(sentence):\n",
    "    # Filtering below threshold predictions\n",
    "    p = bag_of_words(sentence, words,show_details=False)\n",
    "    res = chat_model.predict(np.array([p]))[0]\n",
    "    ERROR_THRESHOLD = 0.25\n",
    "    results = [[i,r] for i,r in enumerate(res) if r>ERROR_THRESHOLD]\n",
    "    # Sorting strength probability\n",
    "    results.sort(key=lambda x: x[1], reverse=True)\n",
    "    return_list = []\n",
    "    for r in results:\n",
    "        return_list.append({\"intent\": classes[r[0]], \"probability\": str(r[1])})\n",
    "    return return_list\n",
    "\n",
    "def getResponse(ints, intents_json):\n",
    "    tag = ints[0]['intent']\n",
    "    list_of_intents = intents_json['intents']\n",
    "    for i in list_of_intents:\n",
    "        if(i['tag']== tag):\n",
    "            result = random.choice(i['responses'])\n",
    "            break\n",
    "    return result\n",
    "\n",
    "# Creating tkinter GUI\n",
    "import tkinter\n",
    "from tkinter import *\n",
    "def send():\n",
    "    msg = EntryBox.get(\"1.0\",'end-1c').strip()\n",
    "    EntryBox.delete(\"0.0\",END)\n",
    "    if msg != '':\n",
    "        ChatBox.config(state=NORMAL)\n",
    "        ChatBox.insert(END, \"You: \" + msg + '\\n\\n')\n",
    "        ChatBox.config(foreground=\"#2a1a2e\", font=(\"Verdana\", 12 ))\n",
    "        ints = predict_class(msg)\n",
    "        if ints ==[]:\n",
    "            ints = predict_class(\"error\")\n",
    "        res = getResponse(ints, intents)\n",
    "        ChatBox.insert(END, \"Bot: \" + res + '\\n\\n')           \n",
    "        ChatBox.config(state=NORMAL)\n",
    "        ChatBox.yview(END)\n",
    "root = Tk()\n",
    "root.title(\"Chatbot\")\n",
    "root.geometry(\"400x500\")\n",
    "root.resizable(width=FALSE, height=FALSE)\n",
    "\n",
    "# Creating chatbot window\n",
    "ChatBox = Text(root, bd=0, bg=\"white\", height=\"8\", width=\"50\", font=\"Arial\",)\n",
    "ChatBox.config(state=NORMAL)\n",
    "\n",
    "# Binding scrollbar to chat window\n",
    "scrollbar = Scrollbar(root, command=ChatBox.yview)\n",
    "ChatBox['yscrollcommand'] = scrollbar.set\n",
    "\n",
    "# Creating button to send message\n",
    "SendButton = Button(root, font=(\"Verdana\",12,'bold'), text=\"Send\", width=\"12\", height=5,\n",
    "                    bd=0, bg=\"#f9a602\", activebackground=\"#3c9d9b\",fg='#000000',\n",
    "                    command= send )\n",
    "\n",
    "# Creating the box to enter message\n",
    "EntryBox = Text(root, bd=0, bg=\"white\",width=\"29\", height=\"5\", font=\"Arial\")\n",
    "\n",
    "# EntryBox.bind(\"<Return>\", send)\n",
    "# Place all components on the screen\n",
    "scrollbar.place(x=376,y=6, height=386)\n",
    "ChatBox.place(x=6,y=6, height=386, width=370)\n",
    "\n",
    "EntryBox.place(x=128, y=401, height=90, width=265)\n",
    "SendButton.place(x=6, y=401, height=90)\n",
    "root.mainloop()"
   ]
  },
  {
   "cell_type": "markdown",
   "metadata": {},
   "source": [
    "## Chatbot Performance \n",
    "### <p><strong><em> The chatbot metrics are in their early stages of development, and few references for consultation are available.</strong>\n",
    "\n",
    "### Interactions per User\n",
    "### <p><strong><em> Measuring the interactions between users and the Bot</strong>\n",
    "- The Bot was tested several times by different users. \n",
    "- Several technical errors were noted during the testing, and these errors have already been addressed.\n",
    "\n",
    "### Retention and Goal Completion\n",
    "### <p><strong><em> Repeat users and usage purposes</strong>\n",
    "- Most users who tested Bot would engage with it daily (number of users: 2−6)\n",
    "- Motivation behind using Bot is checking the latest COVID-19 information from MOH and MOI."
   ]
  },
  {
   "cell_type": "markdown",
   "metadata": {},
   "source": [
    "## Chatbot Benchmarking\n",
    "\n",
    "In this section, the chatbot is compared with World Health Organization's chatbot (Table 2).\n",
    "<img src='Images/Chatbot Benchmarking.png'>\n",
    "                                                   \n",
    "                                                  Table 2. Chatbot Benchmarking"
   ]
  },
  {
   "cell_type": "markdown",
   "metadata": {},
   "source": [
    "## Challenges\n",
    "- Tuning the parameters (trial and error)\n",
    "- Operating Bot on Jupyter Notebook is inconvenient\n",
    "- Hourly updates must be monitored daily so that changes in the format of data sources (websites) are incorporated during data parsing."
   ]
  },
  {
   "cell_type": "markdown",
   "metadata": {},
   "source": [
    "## Next Steps: Future Work\n",
    "- Deploy the model on a social media platform\n",
    "- Add more features to the chatbot\n",
    "- Include Arabic responses "
   ]
  },
  {
   "cell_type": "markdown",
   "metadata": {},
   "source": [
    "## References:\n",
    "\n",
    "- <p style='text-align: justify;'> Laetsch, T., 2020. Web Scraping With Python, accessed on 19 Mar, 2020:(https://campus.datacamp.com/courses/web-scraping-with-python/introduction-to-html?ex=1).</p>\n",
    "- <p style='text-align: justify;'>Mamoor, S., 2020. FBXL8 is differentially expressed and transcriptionally induced in MERS coronavirus infection. </p>\n",
    "- <p style='text-align: justify;'> Navlani, A., 2019. Web Scraping With Python, accessed on 19 Mar, 2020:(https://www.datacamp.com/community/tutorials/text-analytics-beginners-nltk).</p>\n",
    "- <p style='text-align: justify;'> Neff, A., 2019. Web Scraping With Python, accessed on 19 Mar, 2020:(https://www.icmi.com/resources/2019/metrics-uncover-the-value-of-chatbots-within-customer-service).</p>\n",
    "- <p style='text-align: justify;'> Jassova, B., 2019. Web Scraping With Python, accessed on 19 Mar, 2020:(https://landbot.io/blog/chatbot-metrics-kpi/).</p>"
   ]
  }
 ],
 "metadata": {
  "kernelspec": {
   "display_name": "Python 3",
   "language": "python",
   "name": "python3"
  },
  "language_info": {
   "codemirror_mode": {
    "name": "ipython",
    "version": 3
   },
   "file_extension": ".py",
   "mimetype": "text/x-python",
   "name": "python",
   "nbconvert_exporter": "python",
   "pygments_lexer": "ipython3",
   "version": "3.7.4"
  }
 },
 "nbformat": 4,
 "nbformat_minor": 2
}
