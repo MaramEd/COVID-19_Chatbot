{
 "cells": [
  {
   "cell_type": "markdown",
   "metadata": {},
   "source": [
    "# <div style=\"text-align: center\">Quest for COVID-19 Data</div>"
   ]
  },
  {
   "cell_type": "markdown",
   "metadata": {},
   "source": [
    "# Acquisition Phase\n",
    "## Web Scraping\n"
   ]
  },
  {
   "cell_type": "markdown",
   "metadata": {},
   "source": [
    "<div style=\"text-align: justify\"> In this phase, data will be extracted from TrackCorona website and transformed into structured data for further analysis. This website was chosen because it is sponsored by Google Maps and Wikipidia and provides accurate COVID-19 information and updates from official sources.</div>"
   ]
  },
  {
   "cell_type": "code",
   "execution_count": 1,
   "metadata": {},
   "outputs": [],
   "source": [
    "# Installing necessary libraries\n",
    "from selenium import webdriver\n",
    "from bs4 import BeautifulSoup \n",
    "import time\n",
    "import re\n",
    "from selenium.webdriver.support.ui import WebDriverWait\n",
    "import requests"
   ]
  },
  {
   "cell_type": "code",
   "execution_count": 2,
   "metadata": {},
   "outputs": [],
   "source": [
    "# Web to be scraped\n",
    "url = \"https://www.trackcorona.live/\""
   ]
  },
  {
   "cell_type": "code",
   "execution_count": 3,
   "metadata": {},
   "outputs": [],
   "source": [
    "# Defining a function that scapes data.\n",
    "def scrape_data():\n",
    "    # Accessing and navigating TrachCorona website. \n",
    "    # Then, suspending execution for five seconds in order for pages to load.\n",
    "    driver = webdriver.Chrome('chromedriver/chromedriver')\n",
    "    driver.get(url)\n",
    "    time.sleep(5)\n",
    "    html = driver.page_source\n",
    "    click = driver.find_element_by_xpath(\"//*[@id='tableButton']\")\n",
    "    click.click()\n",
    "    soup = BeautifulSoup(html, 'html.parser')\n",
    "    with open('scraped_new.txt', 'w') as file:\n",
    "        file.write(str(soup))\n",
    "    print('Successful Update!')"
   ]
  },
  {
   "cell_type": "code",
   "execution_count": null,
   "metadata": {},
   "outputs": [
    {
     "name": "stdout",
     "output_type": "stream",
     "text": [
      "Successful Update!\n"
     ]
    }
   ],
   "source": [
    "# Updating scraped data each hour to track the changes in the COVID19 numbers. \n",
    "while True:\n",
    "    scrape_data()\n",
    "    time.sleep(3600) # 3600 seconds = 1 hour"
   ]
  }
 ],
 "metadata": {
  "kernelspec": {
   "display_name": "Python 3",
   "language": "python",
   "name": "python3"
  },
  "language_info": {
   "codemirror_mode": {
    "name": "ipython",
    "version": 3
   },
   "file_extension": ".py",
   "mimetype": "text/x-python",
   "name": "python",
   "nbconvert_exporter": "python",
   "pygments_lexer": "ipython3",
   "version": "3.7.4"
  }
 },
 "nbformat": 4,
 "nbformat_minor": 2
}
